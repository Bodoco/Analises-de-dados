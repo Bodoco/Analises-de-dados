{
 "cells": [
  {
   "cell_type": "code",
   "execution_count": 1,
   "metadata": {},
   "outputs": [],
   "source": [
    "''' Aqui serão analisados indicadores do pib per capita, dos países do mundo,\n",
    "usando um dataset retirado do Kaggle'''\n",
    "import pandas as pd\n",
    "import numpy as np  \n",
    "import plotly.graph_objects as go\n",
    "import plotly.express as px\n",
    "import seaborn as sns\n",
    "import matplotlib.pyplot as plt"
   ]
  },
  {
   "cell_type": "code",
   "execution_count": 2,
   "metadata": {},
   "outputs": [
    {
     "data": {
      "text/html": [
       "<div>\n",
       "<style scoped>\n",
       "    .dataframe tbody tr th:only-of-type {\n",
       "        vertical-align: middle;\n",
       "    }\n",
       "\n",
       "    .dataframe tbody tr th {\n",
       "        vertical-align: top;\n",
       "    }\n",
       "\n",
       "    .dataframe thead th {\n",
       "        text-align: right;\n",
       "    }\n",
       "</style>\n",
       "<table border=\"1\" class=\"dataframe\">\n",
       "  <thead>\n",
       "    <tr style=\"text-align: right;\">\n",
       "      <th></th>\n",
       "      <th>Country Name</th>\n",
       "      <th>Country Code</th>\n",
       "      <th>Indicator Name</th>\n",
       "      <th>Indicator Code</th>\n",
       "      <th>1960</th>\n",
       "      <th>1961</th>\n",
       "      <th>1962</th>\n",
       "      <th>1963</th>\n",
       "      <th>1964</th>\n",
       "      <th>1965</th>\n",
       "      <th>...</th>\n",
       "      <th>2013</th>\n",
       "      <th>2014</th>\n",
       "      <th>2015</th>\n",
       "      <th>2016</th>\n",
       "      <th>2017</th>\n",
       "      <th>2018</th>\n",
       "      <th>2019</th>\n",
       "      <th>2020</th>\n",
       "      <th>2021</th>\n",
       "      <th>2022</th>\n",
       "    </tr>\n",
       "  </thead>\n",
       "  <tbody>\n",
       "    <tr>\n",
       "      <th>0</th>\n",
       "      <td>Aruba</td>\n",
       "      <td>ABW</td>\n",
       "      <td>GDP per capita (current US$)</td>\n",
       "      <td>NY.GDP.PCAP.CD</td>\n",
       "      <td>NaN</td>\n",
       "      <td>NaN</td>\n",
       "      <td>NaN</td>\n",
       "      <td>NaN</td>\n",
       "      <td>NaN</td>\n",
       "      <td>NaN</td>\n",
       "      <td>...</td>\n",
       "      <td>26515.678080</td>\n",
       "      <td>26942.307980</td>\n",
       "      <td>28421.386490</td>\n",
       "      <td>28451.273740</td>\n",
       "      <td>29326.708060</td>\n",
       "      <td>30220.594520</td>\n",
       "      <td>31650.760540</td>\n",
       "      <td>24487.863560</td>\n",
       "      <td>29342.100860</td>\n",
       "      <td>NaN</td>\n",
       "    </tr>\n",
       "    <tr>\n",
       "      <th>1</th>\n",
       "      <td>Africa Eastern and Southern</td>\n",
       "      <td>AFE</td>\n",
       "      <td>GDP per capita (current US$)</td>\n",
       "      <td>NY.GDP.PCAP.CD</td>\n",
       "      <td>162.913035</td>\n",
       "      <td>162.551683</td>\n",
       "      <td>172.002460</td>\n",
       "      <td>199.189238</td>\n",
       "      <td>179.387799</td>\n",
       "      <td>198.230368</td>\n",
       "      <td>...</td>\n",
       "      <td>1730.394686</td>\n",
       "      <td>1719.183721</td>\n",
       "      <td>1538.552268</td>\n",
       "      <td>1443.692371</td>\n",
       "      <td>1628.586788</td>\n",
       "      <td>1564.734340</td>\n",
       "      <td>1512.270553</td>\n",
       "      <td>1363.540741</td>\n",
       "      <td>1549.772730</td>\n",
       "      <td>NaN</td>\n",
       "    </tr>\n",
       "    <tr>\n",
       "      <th>2</th>\n",
       "      <td>Afghanistan</td>\n",
       "      <td>AFG</td>\n",
       "      <td>GDP per capita (current US$)</td>\n",
       "      <td>NY.GDP.PCAP.CD</td>\n",
       "      <td>62.369375</td>\n",
       "      <td>62.443703</td>\n",
       "      <td>60.950364</td>\n",
       "      <td>82.021738</td>\n",
       "      <td>85.511073</td>\n",
       "      <td>105.243196</td>\n",
       "      <td>...</td>\n",
       "      <td>651.987862</td>\n",
       "      <td>628.146804</td>\n",
       "      <td>592.476537</td>\n",
       "      <td>520.252064</td>\n",
       "      <td>530.149831</td>\n",
       "      <td>502.056771</td>\n",
       "      <td>500.522664</td>\n",
       "      <td>516.866552</td>\n",
       "      <td>368.754614</td>\n",
       "      <td>NaN</td>\n",
       "    </tr>\n",
       "    <tr>\n",
       "      <th>3</th>\n",
       "      <td>Africa Western and Central</td>\n",
       "      <td>AFW</td>\n",
       "      <td>GDP per capita (current US$)</td>\n",
       "      <td>NY.GDP.PCAP.CD</td>\n",
       "      <td>106.976475</td>\n",
       "      <td>112.047561</td>\n",
       "      <td>117.730633</td>\n",
       "      <td>122.278715</td>\n",
       "      <td>130.599963</td>\n",
       "      <td>137.186142</td>\n",
       "      <td>...</td>\n",
       "      <td>2149.295219</td>\n",
       "      <td>2243.271464</td>\n",
       "      <td>1876.623483</td>\n",
       "      <td>1645.023767</td>\n",
       "      <td>1585.911930</td>\n",
       "      <td>1731.311792</td>\n",
       "      <td>1749.303317</td>\n",
       "      <td>1683.436391</td>\n",
       "      <td>1757.030626</td>\n",
       "      <td>NaN</td>\n",
       "    </tr>\n",
       "    <tr>\n",
       "      <th>4</th>\n",
       "      <td>Angola</td>\n",
       "      <td>AGO</td>\n",
       "      <td>GDP per capita (current US$)</td>\n",
       "      <td>NY.GDP.PCAP.CD</td>\n",
       "      <td>NaN</td>\n",
       "      <td>NaN</td>\n",
       "      <td>NaN</td>\n",
       "      <td>NaN</td>\n",
       "      <td>NaN</td>\n",
       "      <td>NaN</td>\n",
       "      <td>...</td>\n",
       "      <td>5101.983876</td>\n",
       "      <td>5059.080441</td>\n",
       "      <td>3100.830685</td>\n",
       "      <td>1709.515534</td>\n",
       "      <td>2283.214233</td>\n",
       "      <td>2487.500996</td>\n",
       "      <td>2142.238757</td>\n",
       "      <td>1603.993477</td>\n",
       "      <td>1953.533757</td>\n",
       "      <td>NaN</td>\n",
       "    </tr>\n",
       "  </tbody>\n",
       "</table>\n",
       "<p>5 rows × 67 columns</p>\n",
       "</div>"
      ],
      "text/plain": [
       "                  Country Name Country Code                Indicator Name  \\\n",
       "0                        Aruba          ABW  GDP per capita (current US$)   \n",
       "1  Africa Eastern and Southern          AFE  GDP per capita (current US$)   \n",
       "2                  Afghanistan          AFG  GDP per capita (current US$)   \n",
       "3   Africa Western and Central          AFW  GDP per capita (current US$)   \n",
       "4                       Angola          AGO  GDP per capita (current US$)   \n",
       "\n",
       "   Indicator Code        1960        1961        1962        1963        1964  \\\n",
       "0  NY.GDP.PCAP.CD         NaN         NaN         NaN         NaN         NaN   \n",
       "1  NY.GDP.PCAP.CD  162.913035  162.551683  172.002460  199.189238  179.387799   \n",
       "2  NY.GDP.PCAP.CD   62.369375   62.443703   60.950364   82.021738   85.511073   \n",
       "3  NY.GDP.PCAP.CD  106.976475  112.047561  117.730633  122.278715  130.599963   \n",
       "4  NY.GDP.PCAP.CD         NaN         NaN         NaN         NaN         NaN   \n",
       "\n",
       "         1965  ...          2013          2014          2015          2016  \\\n",
       "0         NaN  ...  26515.678080  26942.307980  28421.386490  28451.273740   \n",
       "1  198.230368  ...   1730.394686   1719.183721   1538.552268   1443.692371   \n",
       "2  105.243196  ...    651.987862    628.146804    592.476537    520.252064   \n",
       "3  137.186142  ...   2149.295219   2243.271464   1876.623483   1645.023767   \n",
       "4         NaN  ...   5101.983876   5059.080441   3100.830685   1709.515534   \n",
       "\n",
       "           2017          2018          2019          2020          2021  2022  \n",
       "0  29326.708060  30220.594520  31650.760540  24487.863560  29342.100860   NaN  \n",
       "1   1628.586788   1564.734340   1512.270553   1363.540741   1549.772730   NaN  \n",
       "2    530.149831    502.056771    500.522664    516.866552    368.754614   NaN  \n",
       "3   1585.911930   1731.311792   1749.303317   1683.436391   1757.030626   NaN  \n",
       "4   2283.214233   2487.500996   2142.238757   1603.993477   1953.533757   NaN  \n",
       "\n",
       "[5 rows x 67 columns]"
      ]
     },
     "execution_count": 2,
     "metadata": {},
     "output_type": "execute_result"
    }
   ],
   "source": [
    "#Importando os dados\n",
    "paises=pd.read_csv('pib_capta.csv')\n",
    "paises.head()"
   ]
  },
  {
   "cell_type": "code",
   "execution_count": 3,
   "metadata": {},
   "outputs": [
    {
     "data": {
      "text/html": [
       "<div>\n",
       "<style scoped>\n",
       "    .dataframe tbody tr th:only-of-type {\n",
       "        vertical-align: middle;\n",
       "    }\n",
       "\n",
       "    .dataframe tbody tr th {\n",
       "        vertical-align: top;\n",
       "    }\n",
       "\n",
       "    .dataframe thead th {\n",
       "        text-align: right;\n",
       "    }\n",
       "</style>\n",
       "<table border=\"1\" class=\"dataframe\">\n",
       "  <thead>\n",
       "    <tr style=\"text-align: right;\">\n",
       "      <th></th>\n",
       "      <th>Country Name</th>\n",
       "      <th>Country Code</th>\n",
       "      <th>Indicator Code</th>\n",
       "      <th>1960</th>\n",
       "      <th>1961</th>\n",
       "      <th>1962</th>\n",
       "      <th>1963</th>\n",
       "      <th>1964</th>\n",
       "      <th>1965</th>\n",
       "      <th>1966</th>\n",
       "      <th>...</th>\n",
       "      <th>2013</th>\n",
       "      <th>2014</th>\n",
       "      <th>2015</th>\n",
       "      <th>2016</th>\n",
       "      <th>2017</th>\n",
       "      <th>2018</th>\n",
       "      <th>2019</th>\n",
       "      <th>2020</th>\n",
       "      <th>2021</th>\n",
       "      <th>2022</th>\n",
       "    </tr>\n",
       "  </thead>\n",
       "  <tbody>\n",
       "    <tr>\n",
       "      <th>0</th>\n",
       "      <td>Aruba</td>\n",
       "      <td>ABW</td>\n",
       "      <td>NY.GDP.PCAP.CD</td>\n",
       "      <td>NaN</td>\n",
       "      <td>NaN</td>\n",
       "      <td>NaN</td>\n",
       "      <td>NaN</td>\n",
       "      <td>NaN</td>\n",
       "      <td>NaN</td>\n",
       "      <td>NaN</td>\n",
       "      <td>...</td>\n",
       "      <td>26515.678080</td>\n",
       "      <td>26942.307980</td>\n",
       "      <td>28421.386490</td>\n",
       "      <td>28451.273740</td>\n",
       "      <td>29326.708060</td>\n",
       "      <td>30220.594520</td>\n",
       "      <td>31650.760540</td>\n",
       "      <td>24487.863560</td>\n",
       "      <td>29342.100860</td>\n",
       "      <td>NaN</td>\n",
       "    </tr>\n",
       "    <tr>\n",
       "      <th>1</th>\n",
       "      <td>Africa Eastern and Southern</td>\n",
       "      <td>AFE</td>\n",
       "      <td>NY.GDP.PCAP.CD</td>\n",
       "      <td>162.913035</td>\n",
       "      <td>162.551683</td>\n",
       "      <td>172.002460</td>\n",
       "      <td>199.189238</td>\n",
       "      <td>179.387799</td>\n",
       "      <td>198.230368</td>\n",
       "      <td>209.414665</td>\n",
       "      <td>...</td>\n",
       "      <td>1730.394686</td>\n",
       "      <td>1719.183721</td>\n",
       "      <td>1538.552268</td>\n",
       "      <td>1443.692371</td>\n",
       "      <td>1628.586788</td>\n",
       "      <td>1564.734340</td>\n",
       "      <td>1512.270553</td>\n",
       "      <td>1363.540741</td>\n",
       "      <td>1549.772730</td>\n",
       "      <td>NaN</td>\n",
       "    </tr>\n",
       "    <tr>\n",
       "      <th>2</th>\n",
       "      <td>Afghanistan</td>\n",
       "      <td>AFG</td>\n",
       "      <td>NY.GDP.PCAP.CD</td>\n",
       "      <td>62.369375</td>\n",
       "      <td>62.443703</td>\n",
       "      <td>60.950364</td>\n",
       "      <td>82.021738</td>\n",
       "      <td>85.511073</td>\n",
       "      <td>105.243196</td>\n",
       "      <td>143.103233</td>\n",
       "      <td>...</td>\n",
       "      <td>651.987862</td>\n",
       "      <td>628.146804</td>\n",
       "      <td>592.476537</td>\n",
       "      <td>520.252064</td>\n",
       "      <td>530.149831</td>\n",
       "      <td>502.056771</td>\n",
       "      <td>500.522664</td>\n",
       "      <td>516.866552</td>\n",
       "      <td>368.754614</td>\n",
       "      <td>NaN</td>\n",
       "    </tr>\n",
       "    <tr>\n",
       "      <th>3</th>\n",
       "      <td>Africa Western and Central</td>\n",
       "      <td>AFW</td>\n",
       "      <td>NY.GDP.PCAP.CD</td>\n",
       "      <td>106.976475</td>\n",
       "      <td>112.047561</td>\n",
       "      <td>117.730633</td>\n",
       "      <td>122.278715</td>\n",
       "      <td>130.599963</td>\n",
       "      <td>137.186142</td>\n",
       "      <td>142.895375</td>\n",
       "      <td>...</td>\n",
       "      <td>2149.295219</td>\n",
       "      <td>2243.271464</td>\n",
       "      <td>1876.623483</td>\n",
       "      <td>1645.023767</td>\n",
       "      <td>1585.911930</td>\n",
       "      <td>1731.311792</td>\n",
       "      <td>1749.303317</td>\n",
       "      <td>1683.436391</td>\n",
       "      <td>1757.030626</td>\n",
       "      <td>NaN</td>\n",
       "    </tr>\n",
       "    <tr>\n",
       "      <th>4</th>\n",
       "      <td>Angola</td>\n",
       "      <td>AGO</td>\n",
       "      <td>NY.GDP.PCAP.CD</td>\n",
       "      <td>NaN</td>\n",
       "      <td>NaN</td>\n",
       "      <td>NaN</td>\n",
       "      <td>NaN</td>\n",
       "      <td>NaN</td>\n",
       "      <td>NaN</td>\n",
       "      <td>NaN</td>\n",
       "      <td>...</td>\n",
       "      <td>5101.983876</td>\n",
       "      <td>5059.080441</td>\n",
       "      <td>3100.830685</td>\n",
       "      <td>1709.515534</td>\n",
       "      <td>2283.214233</td>\n",
       "      <td>2487.500996</td>\n",
       "      <td>2142.238757</td>\n",
       "      <td>1603.993477</td>\n",
       "      <td>1953.533757</td>\n",
       "      <td>NaN</td>\n",
       "    </tr>\n",
       "  </tbody>\n",
       "</table>\n",
       "<p>5 rows × 66 columns</p>\n",
       "</div>"
      ],
      "text/plain": [
       "                  Country Name Country Code  Indicator Code        1960  \\\n",
       "0                        Aruba          ABW  NY.GDP.PCAP.CD         NaN   \n",
       "1  Africa Eastern and Southern          AFE  NY.GDP.PCAP.CD  162.913035   \n",
       "2                  Afghanistan          AFG  NY.GDP.PCAP.CD   62.369375   \n",
       "3   Africa Western and Central          AFW  NY.GDP.PCAP.CD  106.976475   \n",
       "4                       Angola          AGO  NY.GDP.PCAP.CD         NaN   \n",
       "\n",
       "         1961        1962        1963        1964        1965        1966  \\\n",
       "0         NaN         NaN         NaN         NaN         NaN         NaN   \n",
       "1  162.551683  172.002460  199.189238  179.387799  198.230368  209.414665   \n",
       "2   62.443703   60.950364   82.021738   85.511073  105.243196  143.103233   \n",
       "3  112.047561  117.730633  122.278715  130.599963  137.186142  142.895375   \n",
       "4         NaN         NaN         NaN         NaN         NaN         NaN   \n",
       "\n",
       "   ...          2013          2014          2015          2016          2017  \\\n",
       "0  ...  26515.678080  26942.307980  28421.386490  28451.273740  29326.708060   \n",
       "1  ...   1730.394686   1719.183721   1538.552268   1443.692371   1628.586788   \n",
       "2  ...    651.987862    628.146804    592.476537    520.252064    530.149831   \n",
       "3  ...   2149.295219   2243.271464   1876.623483   1645.023767   1585.911930   \n",
       "4  ...   5101.983876   5059.080441   3100.830685   1709.515534   2283.214233   \n",
       "\n",
       "           2018          2019          2020          2021  2022  \n",
       "0  30220.594520  31650.760540  24487.863560  29342.100860   NaN  \n",
       "1   1564.734340   1512.270553   1363.540741   1549.772730   NaN  \n",
       "2    502.056771    500.522664    516.866552    368.754614   NaN  \n",
       "3   1731.311792   1749.303317   1683.436391   1757.030626   NaN  \n",
       "4   2487.500996   2142.238757   1603.993477   1953.533757   NaN  \n",
       "\n",
       "[5 rows x 66 columns]"
      ]
     },
     "execution_count": 3,
     "metadata": {},
     "output_type": "execute_result"
    }
   ],
   "source": [
    "#Vamos retirar a coluna incator_name, pois não será necessária\n",
    "paises.drop(columns=['Indicator Name'], inplace=True)\n",
    "paises.head()"
   ]
  },
  {
   "cell_type": "code",
   "execution_count": 5,
   "metadata": {},
   "outputs": [
    {
     "data": {
      "text/html": [
       "<div>\n",
       "<style scoped>\n",
       "    .dataframe tbody tr th:only-of-type {\n",
       "        vertical-align: middle;\n",
       "    }\n",
       "\n",
       "    .dataframe tbody tr th {\n",
       "        vertical-align: top;\n",
       "    }\n",
       "\n",
       "    .dataframe thead th {\n",
       "        text-align: right;\n",
       "    }\n",
       "</style>\n",
       "<table border=\"1\" class=\"dataframe\">\n",
       "  <thead>\n",
       "    <tr style=\"text-align: right;\">\n",
       "      <th></th>\n",
       "      <th>Country Name</th>\n",
       "      <th>Country Code</th>\n",
       "      <th>1960</th>\n",
       "      <th>1961</th>\n",
       "      <th>1962</th>\n",
       "      <th>1963</th>\n",
       "      <th>1964</th>\n",
       "      <th>1965</th>\n",
       "      <th>1966</th>\n",
       "      <th>1967</th>\n",
       "      <th>...</th>\n",
       "      <th>2013</th>\n",
       "      <th>2014</th>\n",
       "      <th>2015</th>\n",
       "      <th>2016</th>\n",
       "      <th>2017</th>\n",
       "      <th>2018</th>\n",
       "      <th>2019</th>\n",
       "      <th>2020</th>\n",
       "      <th>2021</th>\n",
       "      <th>2022</th>\n",
       "    </tr>\n",
       "  </thead>\n",
       "  <tbody>\n",
       "    <tr>\n",
       "      <th>0</th>\n",
       "      <td>Aruba</td>\n",
       "      <td>ABW</td>\n",
       "      <td>NaN</td>\n",
       "      <td>NaN</td>\n",
       "      <td>NaN</td>\n",
       "      <td>NaN</td>\n",
       "      <td>NaN</td>\n",
       "      <td>NaN</td>\n",
       "      <td>NaN</td>\n",
       "      <td>NaN</td>\n",
       "      <td>...</td>\n",
       "      <td>26515.678080</td>\n",
       "      <td>26942.307980</td>\n",
       "      <td>28421.386490</td>\n",
       "      <td>28451.273740</td>\n",
       "      <td>29326.708060</td>\n",
       "      <td>30220.594520</td>\n",
       "      <td>31650.760540</td>\n",
       "      <td>24487.863560</td>\n",
       "      <td>29342.100860</td>\n",
       "      <td>NaN</td>\n",
       "    </tr>\n",
       "    <tr>\n",
       "      <th>1</th>\n",
       "      <td>Africa Eastern and Southern</td>\n",
       "      <td>AFE</td>\n",
       "      <td>162.913035</td>\n",
       "      <td>162.551683</td>\n",
       "      <td>172.002460</td>\n",
       "      <td>199.189238</td>\n",
       "      <td>179.387799</td>\n",
       "      <td>198.230368</td>\n",
       "      <td>209.414665</td>\n",
       "      <td>211.707060</td>\n",
       "      <td>...</td>\n",
       "      <td>1730.394686</td>\n",
       "      <td>1719.183721</td>\n",
       "      <td>1538.552268</td>\n",
       "      <td>1443.692371</td>\n",
       "      <td>1628.586788</td>\n",
       "      <td>1564.734340</td>\n",
       "      <td>1512.270553</td>\n",
       "      <td>1363.540741</td>\n",
       "      <td>1549.772730</td>\n",
       "      <td>NaN</td>\n",
       "    </tr>\n",
       "    <tr>\n",
       "      <th>2</th>\n",
       "      <td>Afghanistan</td>\n",
       "      <td>AFG</td>\n",
       "      <td>62.369375</td>\n",
       "      <td>62.443703</td>\n",
       "      <td>60.950364</td>\n",
       "      <td>82.021738</td>\n",
       "      <td>85.511073</td>\n",
       "      <td>105.243196</td>\n",
       "      <td>143.103233</td>\n",
       "      <td>167.165675</td>\n",
       "      <td>...</td>\n",
       "      <td>651.987862</td>\n",
       "      <td>628.146804</td>\n",
       "      <td>592.476537</td>\n",
       "      <td>520.252064</td>\n",
       "      <td>530.149831</td>\n",
       "      <td>502.056771</td>\n",
       "      <td>500.522664</td>\n",
       "      <td>516.866552</td>\n",
       "      <td>368.754614</td>\n",
       "      <td>NaN</td>\n",
       "    </tr>\n",
       "    <tr>\n",
       "      <th>3</th>\n",
       "      <td>Africa Western and Central</td>\n",
       "      <td>AFW</td>\n",
       "      <td>106.976475</td>\n",
       "      <td>112.047561</td>\n",
       "      <td>117.730633</td>\n",
       "      <td>122.278715</td>\n",
       "      <td>130.599963</td>\n",
       "      <td>137.186142</td>\n",
       "      <td>142.895375</td>\n",
       "      <td>127.303606</td>\n",
       "      <td>...</td>\n",
       "      <td>2149.295219</td>\n",
       "      <td>2243.271464</td>\n",
       "      <td>1876.623483</td>\n",
       "      <td>1645.023767</td>\n",
       "      <td>1585.911930</td>\n",
       "      <td>1731.311792</td>\n",
       "      <td>1749.303317</td>\n",
       "      <td>1683.436391</td>\n",
       "      <td>1757.030626</td>\n",
       "      <td>NaN</td>\n",
       "    </tr>\n",
       "    <tr>\n",
       "      <th>4</th>\n",
       "      <td>Angola</td>\n",
       "      <td>AGO</td>\n",
       "      <td>NaN</td>\n",
       "      <td>NaN</td>\n",
       "      <td>NaN</td>\n",
       "      <td>NaN</td>\n",
       "      <td>NaN</td>\n",
       "      <td>NaN</td>\n",
       "      <td>NaN</td>\n",
       "      <td>NaN</td>\n",
       "      <td>...</td>\n",
       "      <td>5101.983876</td>\n",
       "      <td>5059.080441</td>\n",
       "      <td>3100.830685</td>\n",
       "      <td>1709.515534</td>\n",
       "      <td>2283.214233</td>\n",
       "      <td>2487.500996</td>\n",
       "      <td>2142.238757</td>\n",
       "      <td>1603.993477</td>\n",
       "      <td>1953.533757</td>\n",
       "      <td>NaN</td>\n",
       "    </tr>\n",
       "  </tbody>\n",
       "</table>\n",
       "<p>5 rows × 65 columns</p>\n",
       "</div>"
      ],
      "text/plain": [
       "                  Country Name Country Code        1960        1961  \\\n",
       "0                        Aruba          ABW         NaN         NaN   \n",
       "1  Africa Eastern and Southern          AFE  162.913035  162.551683   \n",
       "2                  Afghanistan          AFG   62.369375   62.443703   \n",
       "3   Africa Western and Central          AFW  106.976475  112.047561   \n",
       "4                       Angola          AGO         NaN         NaN   \n",
       "\n",
       "         1962        1963        1964        1965        1966        1967  \\\n",
       "0         NaN         NaN         NaN         NaN         NaN         NaN   \n",
       "1  172.002460  199.189238  179.387799  198.230368  209.414665  211.707060   \n",
       "2   60.950364   82.021738   85.511073  105.243196  143.103233  167.165675   \n",
       "3  117.730633  122.278715  130.599963  137.186142  142.895375  127.303606   \n",
       "4         NaN         NaN         NaN         NaN         NaN         NaN   \n",
       "\n",
       "   ...          2013          2014          2015          2016          2017  \\\n",
       "0  ...  26515.678080  26942.307980  28421.386490  28451.273740  29326.708060   \n",
       "1  ...   1730.394686   1719.183721   1538.552268   1443.692371   1628.586788   \n",
       "2  ...    651.987862    628.146804    592.476537    520.252064    530.149831   \n",
       "3  ...   2149.295219   2243.271464   1876.623483   1645.023767   1585.911930   \n",
       "4  ...   5101.983876   5059.080441   3100.830685   1709.515534   2283.214233   \n",
       "\n",
       "           2018          2019          2020          2021  2022  \n",
       "0  30220.594520  31650.760540  24487.863560  29342.100860   NaN  \n",
       "1   1564.734340   1512.270553   1363.540741   1549.772730   NaN  \n",
       "2    502.056771    500.522664    516.866552    368.754614   NaN  \n",
       "3   1731.311792   1749.303317   1683.436391   1757.030626   NaN  \n",
       "4   2487.500996   2142.238757   1603.993477   1953.533757   NaN  \n",
       "\n",
       "[5 rows x 65 columns]"
      ]
     },
     "execution_count": 5,
     "metadata": {},
     "output_type": "execute_result"
    }
   ],
   "source": [
    "paises.drop(columns=['Indicator Code'], inplace=True)\n",
    "paises.head()"
   ]
  },
  {
   "cell_type": "code",
   "execution_count": 4,
   "metadata": {},
   "outputs": [
    {
     "data": {
      "text/html": [
       "<div>\n",
       "<style scoped>\n",
       "    .dataframe tbody tr th:only-of-type {\n",
       "        vertical-align: middle;\n",
       "    }\n",
       "\n",
       "    .dataframe tbody tr th {\n",
       "        vertical-align: top;\n",
       "    }\n",
       "\n",
       "    .dataframe thead th {\n",
       "        text-align: right;\n",
       "    }\n",
       "</style>\n",
       "<table border=\"1\" class=\"dataframe\">\n",
       "  <thead>\n",
       "    <tr style=\"text-align: right;\">\n",
       "      <th></th>\n",
       "      <th>1960</th>\n",
       "      <th>1961</th>\n",
       "      <th>1962</th>\n",
       "      <th>1963</th>\n",
       "      <th>1964</th>\n",
       "      <th>1965</th>\n",
       "      <th>1966</th>\n",
       "      <th>1967</th>\n",
       "      <th>1968</th>\n",
       "      <th>1969</th>\n",
       "      <th>...</th>\n",
       "      <th>2013</th>\n",
       "      <th>2014</th>\n",
       "      <th>2015</th>\n",
       "      <th>2016</th>\n",
       "      <th>2017</th>\n",
       "      <th>2018</th>\n",
       "      <th>2019</th>\n",
       "      <th>2020</th>\n",
       "      <th>2021</th>\n",
       "      <th>2022</th>\n",
       "    </tr>\n",
       "  </thead>\n",
       "  <tbody>\n",
       "    <tr>\n",
       "      <th>count</th>\n",
       "      <td>134.000000</td>\n",
       "      <td>136.000000</td>\n",
       "      <td>138.000000</td>\n",
       "      <td>138.000000</td>\n",
       "      <td>138.000000</td>\n",
       "      <td>149.000000</td>\n",
       "      <td>152.000000</td>\n",
       "      <td>155.000000</td>\n",
       "      <td>160.000000</td>\n",
       "      <td>160.000000</td>\n",
       "      <td>...</td>\n",
       "      <td>259.000000</td>\n",
       "      <td>260.000000</td>\n",
       "      <td>258.000000</td>\n",
       "      <td>257.000000</td>\n",
       "      <td>257.000000</td>\n",
       "      <td>257.000000</td>\n",
       "      <td>255.000000</td>\n",
       "      <td>252.000000</td>\n",
       "      <td>245.000000</td>\n",
       "      <td>0.0</td>\n",
       "    </tr>\n",
       "    <tr>\n",
       "      <th>mean</th>\n",
       "      <td>473.510092</td>\n",
       "      <td>486.410354</td>\n",
       "      <td>510.260677</td>\n",
       "      <td>541.643978</td>\n",
       "      <td>587.377121</td>\n",
       "      <td>648.080005</td>\n",
       "      <td>703.243553</td>\n",
       "      <td>718.928031</td>\n",
       "      <td>735.351563</td>\n",
       "      <td>796.544472</td>\n",
       "      <td>...</td>\n",
       "      <td>16769.409695</td>\n",
       "      <td>17083.749780</td>\n",
       "      <td>15424.143044</td>\n",
       "      <td>15583.178581</td>\n",
       "      <td>16383.871160</td>\n",
       "      <td>17345.033679</td>\n",
       "      <td>17231.826925</td>\n",
       "      <td>15774.327163</td>\n",
       "      <td>16882.489858</td>\n",
       "      <td>NaN</td>\n",
       "    </tr>\n",
       "    <tr>\n",
       "      <th>std</th>\n",
       "      <td>612.426899</td>\n",
       "      <td>635.116862</td>\n",
       "      <td>666.397524</td>\n",
       "      <td>705.758419</td>\n",
       "      <td>772.263607</td>\n",
       "      <td>849.987350</td>\n",
       "      <td>921.814054</td>\n",
       "      <td>954.784786</td>\n",
       "      <td>982.953554</td>\n",
       "      <td>1060.021821</td>\n",
       "      <td>...</td>\n",
       "      <td>25382.744314</td>\n",
       "      <td>25945.671884</td>\n",
       "      <td>23375.108562</td>\n",
       "      <td>23585.819543</td>\n",
       "      <td>24397.360393</td>\n",
       "      <td>25978.232827</td>\n",
       "      <td>25791.647932</td>\n",
       "      <td>24065.258711</td>\n",
       "      <td>26113.588997</td>\n",
       "      <td>NaN</td>\n",
       "    </tr>\n",
       "    <tr>\n",
       "      <th>min</th>\n",
       "      <td>40.119192</td>\n",
       "      <td>26.318449</td>\n",
       "      <td>26.983496</td>\n",
       "      <td>28.434172</td>\n",
       "      <td>20.018579</td>\n",
       "      <td>16.577652</td>\n",
       "      <td>12.786964</td>\n",
       "      <td>12.900238</td>\n",
       "      <td>20.395642</td>\n",
       "      <td>20.682296</td>\n",
       "      <td>...</td>\n",
       "      <td>241.547671</td>\n",
       "      <td>257.818552</td>\n",
       "      <td>289.359633</td>\n",
       "      <td>242.065671</td>\n",
       "      <td>243.135809</td>\n",
       "      <td>231.446476</td>\n",
       "      <td>216.972968</td>\n",
       "      <td>216.826741</td>\n",
       "      <td>221.477676</td>\n",
       "      <td>NaN</td>\n",
       "    </tr>\n",
       "    <tr>\n",
       "      <th>25%</th>\n",
       "      <td>107.258234</td>\n",
       "      <td>110.089913</td>\n",
       "      <td>114.277857</td>\n",
       "      <td>122.509292</td>\n",
       "      <td>123.574875</td>\n",
       "      <td>140.756742</td>\n",
       "      <td>145.396584</td>\n",
       "      <td>152.410537</td>\n",
       "      <td>149.457032</td>\n",
       "      <td>151.634207</td>\n",
       "      <td>...</td>\n",
       "      <td>2110.418190</td>\n",
       "      <td>2173.282618</td>\n",
       "      <td>2097.331179</td>\n",
       "      <td>2079.448266</td>\n",
       "      <td>2088.500117</td>\n",
       "      <td>2269.177012</td>\n",
       "      <td>2186.046581</td>\n",
       "      <td>2139.636129</td>\n",
       "      <td>2304.844567</td>\n",
       "      <td>NaN</td>\n",
       "    </tr>\n",
       "    <tr>\n",
       "      <th>50%</th>\n",
       "      <td>217.932654</td>\n",
       "      <td>197.938953</td>\n",
       "      <td>202.801243</td>\n",
       "      <td>210.677240</td>\n",
       "      <td>232.182537</td>\n",
       "      <td>251.239040</td>\n",
       "      <td>266.219488</td>\n",
       "      <td>252.252422</td>\n",
       "      <td>292.642193</td>\n",
       "      <td>293.802194</td>\n",
       "      <td>...</td>\n",
       "      <td>6755.073675</td>\n",
       "      <td>6904.579093</td>\n",
       "      <td>6192.562429</td>\n",
       "      <td>6079.088736</td>\n",
       "      <td>6436.791746</td>\n",
       "      <td>6912.110297</td>\n",
       "      <td>6837.717826</td>\n",
       "      <td>6034.203335</td>\n",
       "      <td>6621.574336</td>\n",
       "      <td>NaN</td>\n",
       "    </tr>\n",
       "    <tr>\n",
       "      <th>75%</th>\n",
       "      <td>476.295836</td>\n",
       "      <td>485.401860</td>\n",
       "      <td>538.891433</td>\n",
       "      <td>586.773416</td>\n",
       "      <td>639.414205</td>\n",
       "      <td>681.131112</td>\n",
       "      <td>768.852316</td>\n",
       "      <td>763.567965</td>\n",
       "      <td>760.566852</td>\n",
       "      <td>826.288906</td>\n",
       "      <td>...</td>\n",
       "      <td>19792.134135</td>\n",
       "      <td>20277.795912</td>\n",
       "      <td>18210.359455</td>\n",
       "      <td>18575.232030</td>\n",
       "      <td>19743.954910</td>\n",
       "      <td>20614.898860</td>\n",
       "      <td>19809.323135</td>\n",
       "      <td>18652.166725</td>\n",
       "      <td>18751.026510</td>\n",
       "      <td>NaN</td>\n",
       "    </tr>\n",
       "    <tr>\n",
       "      <th>max</th>\n",
       "      <td>3007.123445</td>\n",
       "      <td>3066.562869</td>\n",
       "      <td>3243.843078</td>\n",
       "      <td>3374.515171</td>\n",
       "      <td>3573.941185</td>\n",
       "      <td>4081.915955</td>\n",
       "      <td>4229.254573</td>\n",
       "      <td>4336.426587</td>\n",
       "      <td>4695.923390</td>\n",
       "      <td>5032.144743</td>\n",
       "      <td>...</td>\n",
       "      <td>185066.578100</td>\n",
       "      <td>195780.006900</td>\n",
       "      <td>170337.924400</td>\n",
       "      <td>174610.637000</td>\n",
       "      <td>173612.864600</td>\n",
       "      <td>194280.822100</td>\n",
       "      <td>199377.481800</td>\n",
       "      <td>182538.638300</td>\n",
       "      <td>234315.460500</td>\n",
       "      <td>NaN</td>\n",
       "    </tr>\n",
       "  </tbody>\n",
       "</table>\n",
       "<p>8 rows × 63 columns</p>\n",
       "</div>"
      ],
      "text/plain": [
       "              1960         1961         1962         1963         1964  \\\n",
       "count   134.000000   136.000000   138.000000   138.000000   138.000000   \n",
       "mean    473.510092   486.410354   510.260677   541.643978   587.377121   \n",
       "std     612.426899   635.116862   666.397524   705.758419   772.263607   \n",
       "min      40.119192    26.318449    26.983496    28.434172    20.018579   \n",
       "25%     107.258234   110.089913   114.277857   122.509292   123.574875   \n",
       "50%     217.932654   197.938953   202.801243   210.677240   232.182537   \n",
       "75%     476.295836   485.401860   538.891433   586.773416   639.414205   \n",
       "max    3007.123445  3066.562869  3243.843078  3374.515171  3573.941185   \n",
       "\n",
       "              1965         1966         1967         1968         1969  ...  \\\n",
       "count   149.000000   152.000000   155.000000   160.000000   160.000000  ...   \n",
       "mean    648.080005   703.243553   718.928031   735.351563   796.544472  ...   \n",
       "std     849.987350   921.814054   954.784786   982.953554  1060.021821  ...   \n",
       "min      16.577652    12.786964    12.900238    20.395642    20.682296  ...   \n",
       "25%     140.756742   145.396584   152.410537   149.457032   151.634207  ...   \n",
       "50%     251.239040   266.219488   252.252422   292.642193   293.802194  ...   \n",
       "75%     681.131112   768.852316   763.567965   760.566852   826.288906  ...   \n",
       "max    4081.915955  4229.254573  4336.426587  4695.923390  5032.144743  ...   \n",
       "\n",
       "                2013           2014           2015           2016  \\\n",
       "count     259.000000     260.000000     258.000000     257.000000   \n",
       "mean    16769.409695   17083.749780   15424.143044   15583.178581   \n",
       "std     25382.744314   25945.671884   23375.108562   23585.819543   \n",
       "min       241.547671     257.818552     289.359633     242.065671   \n",
       "25%      2110.418190    2173.282618    2097.331179    2079.448266   \n",
       "50%      6755.073675    6904.579093    6192.562429    6079.088736   \n",
       "75%     19792.134135   20277.795912   18210.359455   18575.232030   \n",
       "max    185066.578100  195780.006900  170337.924400  174610.637000   \n",
       "\n",
       "                2017           2018           2019           2020  \\\n",
       "count     257.000000     257.000000     255.000000     252.000000   \n",
       "mean    16383.871160   17345.033679   17231.826925   15774.327163   \n",
       "std     24397.360393   25978.232827   25791.647932   24065.258711   \n",
       "min       243.135809     231.446476     216.972968     216.826741   \n",
       "25%      2088.500117    2269.177012    2186.046581    2139.636129   \n",
       "50%      6436.791746    6912.110297    6837.717826    6034.203335   \n",
       "75%     19743.954910   20614.898860   19809.323135   18652.166725   \n",
       "max    173612.864600  194280.822100  199377.481800  182538.638300   \n",
       "\n",
       "                2021  2022  \n",
       "count     245.000000   0.0  \n",
       "mean    16882.489858   NaN  \n",
       "std     26113.588997   NaN  \n",
       "min       221.477676   NaN  \n",
       "25%      2304.844567   NaN  \n",
       "50%      6621.574336   NaN  \n",
       "75%     18751.026510   NaN  \n",
       "max    234315.460500   NaN  \n",
       "\n",
       "[8 rows x 63 columns]"
      ]
     },
     "execution_count": 4,
     "metadata": {},
     "output_type": "execute_result"
    }
   ],
   "source": [
    "#Agora vamos fazer uma análise exploratória dos dados\n",
    "paises.describe()"
   ]
  },
  {
   "cell_type": "code",
   "execution_count": 5,
   "metadata": {},
   "outputs": [
    {
     "data": {
      "text/plain": [
       "<Axes: title={'center': 'Distribuição do pib per capita em 2018'}, xlabel='2018'>"
      ]
     },
     "execution_count": 5,
     "metadata": {},
     "output_type": "execute_result"
    },
    {
     "data": {
      "image/png": "[encoded data removed]",
      "text/plain": [
       "<Figure size 640x480 with 1 Axes>"
      ]
     },
     "metadata": {},
     "output_type": "display_data"
    }
   ],
   "source": [
    "#Vamos  fazer um boxplot para ver a distribuição dos pib per capita em 2018\n",
    "grafico=sns.boxplot(data=paises, x='2018')\n",
    "grafico.set_title('Distribuição do pib per capita em 2018')\n",
    "grafico"
   ]
  },
  {
   "cell_type": "code",
   "execution_count": 6,
   "metadata": {},
   "outputs": [
    {
     "data": {
      "application/vnd.plotly.v1+json": {
       "config": {
        "plotlyServerURL": "https://plot.ly"
       },
       "data": [
        {
         "name": "2018",
         "type": "box",
         "y": [
          30220.59452,
          1564.73434,
          502.0567706,
          1731.311792,
          2487.500996,
          5287.663694,
          42903.44358,
          6474.29534,
          46722.26872,
          11795.15939,
          4391.923697,
          13195.9359,
          17527.16963,
          57207.87151,
          51466.55656,
          4739.84171,
          231.4464765,
          47544.98115,
          1194.438214,
          779.2027097,
          1963.411855,
          9446.717094,
          25415.84662,
          31738.26716,
          5936.101502,
          6360.062473,
          6059.162553,
          113050.7369,
          3471.006951,
          9121.083403,
          18224.89059,
          31241.45396,
          3210.706269,
          6947.800812,
          435.9322636,
          46548.63841,
          16086.31826,
          85217.36915,
          null,
          15795.70846,
          9905.342004,
          2275.49595,
          1594.05999,
          546.2125939,
          2512.383979,
          6782.03792,
          1531.337972,
          3442.742003,
          12383.14997,
          10353.11645,
          8831.907222,
          18956.09797,
          85234.84272,
          29418.93555,
          23424.48046,
          47939.27829,
          2755.838293,
          7833.195013,
          61591.92887,
          7947.158207,
          4171.795011,
          7944.551234,
          3467.178198,
          11310.49888,
          7994.780168,
          25243.79473,
          6321.349401,
          2407.086543,
          40045.56602,
          null,
          30379.72111,
          23165.84948,
          758.2990596,
          35751.21997,
          1858.132956,
          49987.62616,
          6073.336388,
          41557.85486,
          62576.98993,
          3623.329337,
          7694.906045,
          43306.3083,
          4722.042423,
          2180.04157,
          null,
          944.4172662,
          683.3243631,
          781.6443091,
          8719.186217,
          19756.99046,
          9574.279873,
          54545.29998,
          4485.731255,
          35902.7259,
          6094.908859,
          44527.61041,
          48537.56689,
          2457.688921,
          972.3160176,
          15244.43105,
          1494.224962,
          16425.1013,
          6361.337738,
          5076.592986,
          1415.317206,
          1874.947566,
          3902.661668,
          1187.657388,
          89429.65459,
          1974.377788,
          null,
          79250.38785,
          3873.99534,
          5601.467061,
          74461.48,
          42406.84543,
          34622.16967,
          5594.493935,
          4146.407296,
          39727.1166,
          9812.626371,
          1845.78294,
          1308.140165,
          1533.315985,
          1605.01365,
          22547.91799,
          33436.92306,
          32007.52354,
          8384.845373,
          2553.361866,
          9225.845155,
          700.0370394,
          11838.00962,
          11563.83747,
          8916.089485,
          1073.320974,
          758.744711,
          175283.6318,
          4360.583634,
          2323.931742,
          4900.573676,
          1161.7271,
          9839.4686,
          19186.35959,
          116786.5117,
          17865.03109,
          84923.38678,
          null,
          3492.67334,
          194280.8221,
          4232.206888,
          512.5439846,
          10823.63669,
          7476.772457,
          9857.028829,
          4769.190459,
          5384.002157,
          6108.740108,
          856.3565318,
          31567.94224,
          1274.915657,
          3491.192578,
          8850.092733,
          4165.022739,
          25882.63359,
          504.53589,
          1749.954236,
          11645.98198,
          537.9322041,
          11074.06409,
          61174.77734,
          5687.399093,
          36312.72787,
          567.3308067,
          2125.834282,
          1981.85912,
          53044.53244,
          82267.80932,
          1161.534374,
          10400.98907,
          43250.44097,
          39348.31436,
          19887.57431,
          14062.50398,
          1620.742857,
          15588.33733,
          6912.110297,
          3194.674521,
          15948.27586,
          2584.298769,
          15504.58048,
          1455.859757,
          31615.06679,
          null,
          23562.55452,
          6242.961454,
          3562.330943,
          4283.741566,
          45382.30693,
          20614.89886,
          66264.08117,
          12494.47747,
          11287.36035,
          769.4373107,
          1920.208396,
          23318.73817,
          769.8691406,
          1484.239673,
          66859.33834,
          2450.484428,
          519.6500156,
          4145.862351,
          48462.96032,
          379.9860027,
          7252.401858,
          1630.238971,
          null,
          1631.593697,
          12808.19088,
          1950.629352,
          6730.846883,
          19486.39368,
          26123.74713,
          54589.06039,
          4020.27305,
          28988.25921,
          16910.68818,
          1104.392448,
          26831.97146,
          720.265047,
          8032.798909,
          8870.39705,
          883.8678323,
          7124.564544,
          850.6685075,
          6721.34954,
          8754.293268,
          1239.366122,
          3490.367204,
          4649.57939,
          1920.208396,
          1631.593697,
          16164.16133,
          3577.124412,
          9400.778214,
          4401.131201,
          1010.937622,
          793.1280811,
          3096.561768,
          9435.780828,
          18825.28381,
          62823.30944,
          1597.068337,
          8399.694011,
          null,
          null,
          36653.86305,
          3267.225009,
          3076.835315,
          11285.49764,
          4188.988532,
          4384.048892,
          701.7148778,
          7048.522211,
          1475.204538,
          2269.177012
         ]
        }
       ],
       "layout": {
        "template": {
         "data": {
          "bar": [
           {
            "error_x": {
             "color": "#2a3f5f"
            },
            "error_y": {
             "color": "#2a3f5f"
            },
            "marker": {
             "line": {
              "color": "#E5ECF6",
              "width": 0.5
             },
             "pattern": {
              "fillmode": "overlay",
              "size": 10,
              "solidity": 0.2
             }
            },
            "type": "bar"
           }
          ],
          "barpolar": [
           {
            "marker": {
             "line": {
              "color": "#E5ECF6",
              "width": 0.5
             },
             "pattern": {
              "fillmode": "overlay",
              "size": 10,
              "solidity": 0.2
             }
            },
            "type": "barpolar"
           }
          ],
          "carpet": [
           {
            "aaxis": {
             "endlinecolor": "#2a3f5f",
             "gridcolor": "white",
             "linecolor": "white",
             "minorgridcolor": "white",
             "startlinecolor": "#2a3f5f"
            },
            "baxis": {
             "endlinecolor": "#2a3f5f",
             "gridcolor": "white",
             "linecolor": "white",
             "minorgridcolor": "white",
             "startlinecolor": "#2a3f5f"
            },
            "type": "carpet"
           }
          ],
          "choropleth": [
           {
            "colorbar": {
             "outlinewidth": 0,
             "ticks": ""
            },
            "type": "choropleth"
           }
          ],
          "contour": [
           {
            "colorbar": {
             "outlinewidth": 0,
             "ticks": ""
            },
            "colorscale": [
             [
              0,
              "#0d0887"
             ],
             [
              0.1111111111111111,
              "#46039f"
             ],
             [
              0.2222222222222222,
              "#7201a8"
             ],
             [
              0.3333333333333333,
              "#9c179e"
             ],
             [
              0.4444444444444444,
              "#bd3786"
             ],
             [
              0.5555555555555556,
              "#d8576b"
             ],
             [
              0.6666666666666666,
              "#ed7953"
             ],
             [
              0.7777777777777778,
              "#fb9f3a"
             ],
             [
              0.8888888888888888,
              "#fdca26"
             ],
             [
              1,
              "#f0f921"
             ]
            ],
            "type": "contour"
           }
          ],
          "contourcarpet": [
           {
            "colorbar": {
             "outlinewidth": 0,
             "ticks": ""
            },
            "type": "contourcarpet"
           }
          ],
          "heatmap": [
           {
            "colorbar": {
             "outlinewidth": 0,
             "ticks": ""
            },
            "colorscale": [
             [
              0,
              "#0d0887"
             ],
             [
              0.1111111111111111,
              "#46039f"
             ],
             [
              0.2222222222222222,
              "#7201a8"
             ],
             [
              0.3333333333333333,
              "#9c179e"
             ],
             [
              0.4444444444444444,
              "#bd3786"
             ],
             [
              0.5555555555555556,
              "#d8576b"
             ],
             [
              0.6666666666666666,
              "#ed7953"
             ],
             [
              0.7777777777777778,
              "#fb9f3a"
             ],
             [
              0.8888888888888888,
              "#fdca26"
             ],
             [
              1,
              "#f0f921"
             ]
            ],
            "type": "heatmap"
           }
          ],
          "heatmapgl": [
           {
            "colorbar": {
             "outlinewidth": 0,
             "ticks": ""
            },
            "colorscale": [
             [
              0,
              "#0d0887"
             ],
             [
              0.1111111111111111,
              "#46039f"
             ],
             [
              0.2222222222222222,
              "#7201a8"
             ],
             [
              0.3333333333333333,
              "#9c179e"
             ],
             [
              0.4444444444444444,
              "#bd3786"
             ],
             [
              0.5555555555555556,
              "#d8576b"
             ],
             [
              0.6666666666666666,
              "#ed7953"
             ],
             [
              0.7777777777777778,
              "#fb9f3a"
             ],
             [
              0.8888888888888888,
              "#fdca26"
             ],
             [
              1,
              "#f0f921"
             ]
            ],
            "type": "heatmapgl"
           }
          ],
          "histogram": [
           {
            "marker": {
             "pattern": {
              "fillmode": "overlay",
              "size": 10,
              "solidity": 0.2
             }
            },
            "type": "histogram"
           }
          ],
          "histogram2d": [
           {
            "colorbar": {
             "outlinewidth": 0,
             "ticks": ""
            },
            "colorscale": [
             [
              0,
              "#0d0887"
             ],
             [
              0.1111111111111111,
              "#46039f"
             ],
             [
              0.2222222222222222,
              "#7201a8"
             ],
             [
              0.3333333333333333,
              "#9c179e"
             ],
             [
              0.4444444444444444,
              "#bd3786"
             ],
             [
              0.5555555555555556,
              "#d8576b"
             ],
             [
              0.6666666666666666,
              "#ed7953"
             ],
             [
              0.7777777777777778,
              "#fb9f3a"
             ],
             [
              0.8888888888888888,
              "#fdca26"
             ],
             [
              1,
              "#f0f921"
             ]
            ],
            "type": "histogram2d"
           }
          ],
          "histogram2dcontour": [
           {
            "colorbar": {
             "outlinewidth": 0,
             "ticks": ""
            },
            "colorscale": [
             [
              0,
              "#0d0887"
             ],
             [
              0.1111111111111111,
              "#46039f"
             ],
             [
              0.2222222222222222,
              "#7201a8"
             ],
             [
              0.3333333333333333,
              "#9c179e"
             ],
             [
              0.4444444444444444,
              "#bd3786"
             ],
             [
              0.5555555555555556,
              "#d8576b"
             ],
             [
              0.6666666666666666,
              "#ed7953"
             ],
             [
              0.7777777777777778,
              "#fb9f3a"
             ],
             [
              0.8888888888888888,
              "#fdca26"
             ],
             [
              1,
              "#f0f921"
             ]
            ],
            "type": "histogram2dcontour"
           }
          ],
          "mesh3d": [
           {
            "colorbar": {
             "outlinewidth": 0,
             "ticks": ""
            },
            "type": "mesh3d"
           }
          ],
          "parcoords": [
           {
            "line": {
             "colorbar": {
              "outlinewidth": 0,
              "ticks": ""
             }
            },
            "type": "parcoords"
           }
          ],
          "pie": [
           {
            "automargin": true,
            "type": "pie"
           }
          ],
          "scatter": [
           {
            "fillpattern": {
             "fillmode": "overlay",
             "size": 10,
             "solidity": 0.2
            },
            "type": "scatter"
           }
          ],
          "scatter3d": [
           {
            "line": {
             "colorbar": {
              "outlinewidth": 0,
              "ticks": ""
             }
            },
            "marker": {
             "colorbar": {
              "outlinewidth": 0,
              "ticks": ""
             }
            },
            "type": "scatter3d"
           }
          ],
          "scattercarpet": [
           {
            "marker": {
             "colorbar": {
              "outlinewidth": 0,
              "ticks": ""
             }
            },
            "type": "scattercarpet"
           }
          ],
          "scattergeo": [
           {
            "marker": {
             "colorbar": {
              "outlinewidth": 0,
              "ticks": ""
             }
            },
            "type": "scattergeo"
           }
          ],
          "scattergl": [
           {
            "marker": {
             "colorbar": {
              "outlinewidth": 0,
              "ticks": ""
             }
            },
            "type": "scattergl"
           }
          ],
          "scattermapbox": [
           {
            "marker": {
             "colorbar": {
              "outlinewidth": 0,
              "ticks": ""
             }
            },
            "type": "scattermapbox"
           }
          ],
          "scatterpolar": [
           {
            "marker": {
             "colorbar": {
              "outlinewidth": 0,
              "ticks": ""
             }
            },
            "type": "scatterpolar"
           }
          ],
          "scatterpolargl": [
           {
            "marker": {
             "colorbar": {
              "outlinewidth": 0,
              "ticks": ""
             }
            },
            "type": "scatterpolargl"
           }
          ],
          "scatterternary": [
           {
            "marker": {
             "colorbar": {
              "outlinewidth": 0,
              "ticks": ""
             }
            },
            "type": "scatterternary"
           }
          ],
          "surface": [
           {
            "colorbar": {
             "outlinewidth": 0,
             "ticks": ""
            },
            "colorscale": [
             [
              0,
              "#0d0887"
             ],
             [
              0.1111111111111111,
              "#46039f"
             ],
             [
              0.2222222222222222,
              "#7201a8"
             ],
             [
              0.3333333333333333,
              "#9c179e"
             ],
             [
              0.4444444444444444,
              "#bd3786"
             ],
             [
              0.5555555555555556,
              "#d8576b"
             ],
             [
              0.6666666666666666,
              "#ed7953"
             ],
             [
              0.7777777777777778,
              "#fb9f3a"
             ],
             [
              0.8888888888888888,
              "#fdca26"
             ],
             [
              1,
              "#f0f921"
             ]
            ],
            "type": "surface"
           }
          ],
          "table": [
           {
            "cells": {
             "fill": {
              "color": "#EBF0F8"
             },
             "line": {
              "color": "white"
             }
            },
            "header": {
             "fill": {
              "color": "#C8D4E3"
             },
             "line": {
              "color": "white"
             }
            },
            "type": "table"
           }
          ]
         },
         "layout": {
          "annotationdefaults": {
           "arrowcolor": "#2a3f5f",
           "arrowhead": 0,
           "arrowwidth": 1
          },
          "autotypenumbers": "strict",
          "coloraxis": {
           "colorbar": {
            "outlinewidth": 0,
            "ticks": ""
           }
          },
          "colorscale": {
           "diverging": [
            [
             0,
             "#8e0152"
            ],
            [
             0.1,
             "#c51b7d"
            ],
            [
             0.2,
             "#de77ae"
            ],
            [
             0.3,
             "#f1b6da"
            ],
            [
             0.4,
             "#fde0ef"
            ],
            [
             0.5,
             "#f7f7f7"
            ],
            [
             0.6,
             "#e6f5d0"
            ],
            [
             0.7,
             "#b8e186"
            ],
            [
             0.8,
             "#7fbc41"
            ],
            [
             0.9,
             "#4d9221"
            ],
            [
             1,
             "#276419"
            ]
           ],
           "sequential": [
            [
             0,
             "#0d0887"
            ],
            [
             0.1111111111111111,
             "#46039f"
            ],
            [
             0.2222222222222222,
             "#7201a8"
            ],
            [
             0.3333333333333333,
             "#9c179e"
            ],
            [
             0.4444444444444444,
             "#bd3786"
            ],
            [
             0.5555555555555556,
             "#d8576b"
            ],
            [
             0.6666666666666666,
             "#ed7953"
            ],
            [
             0.7777777777777778,
             "#fb9f3a"
            ],
            [
             0.8888888888888888,
             "#fdca26"
            ],
            [
             1,
             "#f0f921"
            ]
           ],
           "sequentialminus": [
            [
             0,
             "#0d0887"
            ],
            [
             0.1111111111111111,
             "#46039f"
            ],
            [
             0.2222222222222222,
             "#7201a8"
            ],
            [
             0.3333333333333333,
             "#9c179e"
            ],
            [
             0.4444444444444444,
             "#bd3786"
            ],
            [
             0.5555555555555556,
             "#d8576b"
            ],
            [
             0.6666666666666666,
             "#ed7953"
            ],
            [
             0.7777777777777778,
             "#fb9f3a"
            ],
            [
             0.8888888888888888,
             "#fdca26"
            ],
            [
             1,
             "#f0f921"
            ]
           ]
          },
          "colorway": [
           "#636efa",
           "#EF553B",
           "#00cc96",
           "#ab63fa",
           "#FFA15A",
           "#19d3f3",
           "#FF6692",
           "#B6E880",
           "#FF97FF",
           "#FECB52"
          ],
          "font": {
           "color": "#2a3f5f"
          },
          "geo": {
           "bgcolor": "white",
           "lakecolor": "white",
           "landcolor": "#E5ECF6",
           "showlakes": true,
           "showland": true,
           "subunitcolor": "white"
          },
          "hoverlabel": {
           "align": "left"
          },
          "hovermode": "closest",
          "mapbox": {
           "style": "light"
          },
          "paper_bgcolor": "white",
          "plot_bgcolor": "#E5ECF6",
          "polar": {
           "angularaxis": {
            "gridcolor": "white",
            "linecolor": "white",
            "ticks": ""
           },
           "bgcolor": "#E5ECF6",
           "radialaxis": {
            "gridcolor": "white",
            "linecolor": "white",
            "ticks": ""
           }
          },
          "scene": {
           "xaxis": {
            "backgroundcolor": "#E5ECF6",
            "gridcolor": "white",
            "gridwidth": 2,
            "linecolor": "white",
            "showbackground": true,
            "ticks": "",
            "zerolinecolor": "white"
           },
           "yaxis": {
            "backgroundcolor": "#E5ECF6",
            "gridcolor": "white",
            "gridwidth": 2,
            "linecolor": "white",
            "showbackground": true,
            "ticks": "",
            "zerolinecolor": "white"
           },
           "zaxis": {
            "backgroundcolor": "#E5ECF6",
            "gridcolor": "white",
            "gridwidth": 2,
            "linecolor": "white",
            "showbackground": true,
            "ticks": "",
            "zerolinecolor": "white"
           }
          },
          "shapedefaults": {
           "line": {
            "color": "#2a3f5f"
           }
          },
          "ternary": {
           "aaxis": {
            "gridcolor": "white",
            "linecolor": "white",
            "ticks": ""
           },
           "baxis": {
            "gridcolor": "white",
            "linecolor": "white",
            "ticks": ""
           },
           "bgcolor": "#E5ECF6",
           "caxis": {
            "gridcolor": "white",
            "linecolor": "white",
            "ticks": ""
           }
          },
          "title": {
           "x": 0.05
          },
          "xaxis": {
           "automargin": true,
           "gridcolor": "white",
           "linecolor": "white",
           "ticks": "",
           "title": {
            "standoff": 15
           },
           "zerolinecolor": "white",
           "zerolinewidth": 2
          },
          "yaxis": {
           "automargin": true,
           "gridcolor": "white",
           "linecolor": "white",
           "ticks": "",
           "title": {
            "standoff": 15
           },
           "zerolinecolor": "white",
           "zerolinewidth": 2
          }
         }
        },
        "title": {
         "text": "Distribuição do pib per capita em 2018"
        }
       }
      }
     },
     "metadata": {},
     "output_type": "display_data"
    }
   ],
   "source": [
    "#Agora faremos o mesmo grafico usando a biblioteca plotly\n",
    "fig = go.Figure(go.Box(y=paises['2018'], name='2018'))\n",
    "fig.update_layout(title='Distribuição do pib per capita em 2018')\n",
    "fig.show()"
   ]
  },
  {
   "cell_type": "code",
   "execution_count": 7,
   "metadata": {},
   "outputs": [
    {
     "data": {
      "application/vnd.plotly.v1+json": {
       "config": {
        "plotlyServerURL": "https://plot.ly"
       },
       "data": [
        {
         "coloraxis": "coloraxis",
         "geo": "geo",
         "hovertemplate": "<b>%{hovertext}</b><br><br>Country Name=%{location}<br>2018=%{z}<extra></extra>",
         "hovertext": [
          "Aruba",
          "Africa Eastern and Southern",
          "Afghanistan",
          "Africa Western and Central",
          "Angola",
          "Albania",
          "Andorra",
          "Arab World",
          "United Arab Emirates",
          "Argentina",
          "Armenia",
          "American Samoa",
          "Antigua and Barbuda",
          "Australia",
          "Austria",
          "Azerbaijan",
          "Burundi",
          "Belgium",
          "Benin",
          "Burkina Faso",
          "Bangladesh",
          "Bulgaria",
          "Bahrain",
          "Bahamas, The",
          "Bosnia and Herzegovina",
          "Belarus",
          "Belize",
          "Bermuda",
          "Bolivia",
          "Brazil",
          "Barbados",
          "Brunei Darussalam",
          "Bhutan",
          "Botswana",
          "Central African Republic",
          "Canada",
          "Central Europe and the Baltics",
          "Switzerland",
          "Channel Islands",
          "Chile",
          "China",
          "Cote d'Ivoire",
          "Cameroon",
          "Congo, Dem. Rep.",
          "Congo, Rep.",
          "Colombia",
          "Comoros",
          "Cabo Verde",
          "Costa Rica",
          "Caribbean small states",
          "Cuba",
          "Curacao",
          "Cayman Islands",
          "Cyprus",
          "Czechia",
          "Germany",
          "Djibouti",
          "Dominica",
          "Denmark",
          "Dominican Republic",
          "Algeria",
          "East Asia & Pacific (excluding high income)",
          "Early-demographic dividend",
          "East Asia & Pacific",
          "Europe & Central Asia (excluding high income)",
          "Europe & Central Asia",
          "Ecuador",
          "Egypt, Arab Rep.",
          "Euro area",
          "Eritrea",
          "Spain",
          "Estonia",
          "Ethiopia",
          "European Union",
          "Fragile and conflict affected situations",
          "Finland",
          "Fiji",
          "France",
          "Faroe Islands",
          "Micronesia, Fed. Sts.",
          "Gabon",
          "United Kingdom",
          "Georgia",
          "Ghana",
          "Gibraltar",
          "Guinea",
          "Gambia, The",
          "Guinea-Bissau",
          "Equatorial Guinea",
          "Greece",
          "Grenada",
          "Greenland",
          "Guatemala",
          "Guam",
          "Guyana",
          "High income",
          "Hong Kong SAR, China",
          "Honduras",
          "Heavily indebted poor countries (HIPC)",
          "Croatia",
          "Haiti",
          "Hungary",
          "IBRD only",
          "IDA & IBRD total",
          "IDA total",
          "IDA blend",
          "Indonesia",
          "IDA only",
          "Isle of Man",
          "India",
          "Not classified",
          "Ireland",
          "Iran, Islamic Rep.",
          "Iraq",
          "Iceland",
          "Israel",
          "Italy",
          "Jamaica",
          "Jordan",
          "Japan",
          "Kazakhstan",
          "Kenya",
          "Kyrgyz Republic",
          "Cambodia",
          "Kiribati",
          "St. Kitts and Nevis",
          "Korea, Rep.",
          "Kuwait",
          "Latin America & Caribbean (excluding high income)",
          "Lao PDR",
          "Lebanon",
          "Liberia",
          "Libya",
          "St. Lucia",
          "Latin America & Caribbean",
          "Least developed countries: UN classification",
          "Low income",
          "Liechtenstein",
          "Sri Lanka",
          "Lower middle income",
          "Low & middle income",
          "Lesotho",
          "Late-demographic dividend",
          "Lithuania",
          "Luxembourg",
          "Latvia",
          "Macao SAR, China",
          "St. Martin (French part)",
          "Morocco",
          "Monaco",
          "Moldova",
          "Madagascar",
          "Maldives",
          "Middle East & North Africa",
          "Mexico",
          "Marshall Islands",
          "Middle income",
          "North Macedonia",
          "Mali",
          "Malta",
          "Myanmar",
          "Middle East & North Africa (excluding high income)",
          "Montenegro",
          "Mongolia",
          "Northern Mariana Islands",
          "Mozambique",
          "Mauritania",
          "Mauritius",
          "Malawi",
          "Malaysia",
          "North America",
          "Namibia",
          "New Caledonia",
          "Niger",
          "Nigeria",
          "Nicaragua",
          "Netherlands",
          "Norway",
          "Nepal",
          "Nauru",
          "New Zealand",
          "OECD members",
          "Oman",
          "Other small states",
          "Pakistan",
          "Panama",
          "Peru",
          "Philippines",
          "Palau",
          "Papua New Guinea",
          "Poland",
          "Pre-demographic dividend",
          "Puerto Rico",
          "Korea, Dem. People's Rep.",
          "Portugal",
          "Paraguay",
          "West Bank and Gaza",
          "Pacific island small states",
          "Post-demographic dividend",
          "French Polynesia",
          "Qatar",
          "Romania",
          "Russian Federation",
          "Rwanda",
          "South Asia",
          "Saudi Arabia",
          "Sudan",
          "Senegal",
          "Singapore",
          "Solomon Islands",
          "Sierra Leone",
          "El Salvador",
          "San Marino",
          "Somalia",
          "Serbia",
          "Sub-Saharan Africa (excluding high income)",
          "South Sudan",
          "Sub-Saharan Africa",
          "Small states",
          "Sao Tome and Principe",
          "Suriname",
          "Slovak Republic",
          "Slovenia",
          "Sweden",
          "Eswatini",
          "Sint Maarten (Dutch part)",
          "Seychelles",
          "Syrian Arab Republic",
          "Turks and Caicos Islands",
          "Chad",
          "East Asia & Pacific (IDA & IBRD countries)",
          "Europe & Central Asia (IDA & IBRD countries)",
          "Togo",
          "Thailand",
          "Tajikistan",
          "Turkmenistan",
          "Latin America & the Caribbean (IDA & IBRD countries)",
          "Timor-Leste",
          "Middle East & North Africa (IDA & IBRD countries)",
          "Tonga",
          "South Asia (IDA & IBRD)",
          "Sub-Saharan Africa (IDA & IBRD countries)",
          "Trinidad and Tobago",
          "Tunisia",
          "Turkiye",
          "Tuvalu",
          "Tanzania",
          "Uganda",
          "Ukraine",
          "Upper middle income",
          "Uruguay",
          "United States",
          "Uzbekistan",
          "St. Vincent and the Grenadines",
          "Venezuela, RB",
          "British Virgin Islands",
          "Virgin Islands (U.S.)",
          "Vietnam",
          "Vanuatu",
          "World",
          "Samoa",
          "Kosovo",
          "Yemen, Rep.",
          "South Africa",
          "Zambia",
          "Zimbabwe"
         ],
         "locationmode": "country names",
         "locations": [
          "Aruba",
          "Africa Eastern and Southern",
          "Afghanistan",
          "Africa Western and Central",
          "Angola",
          "Albania",
          "Andorra",
          "Arab World",
          "United Arab Emirates",
          "Argentina",
          "Armenia",
          "American Samoa",
          "Antigua and Barbuda",
          "Australia",
          "Austria",
          "Azerbaijan",
          "Burundi",
          "Belgium",
          "Benin",
          "Burkina Faso",
          "Bangladesh",
          "Bulgaria",
          "Bahrain",
          "Bahamas, The",
          "Bosnia and Herzegovina",
          "Belarus",
          "Belize",
          "Bermuda",
          "Bolivia",
          "Brazil",
          "Barbados",
          "Brunei Darussalam",
          "Bhutan",
          "Botswana",
          "Central African Republic",
          "Canada",
          "Central Europe and the Baltics",
          "Switzerland",
          "Channel Islands",
          "Chile",
          "China",
          "Cote d'Ivoire",
          "Cameroon",
          "Congo, Dem. Rep.",
          "Congo, Rep.",
          "Colombia",
          "Comoros",
          "Cabo Verde",
          "Costa Rica",
          "Caribbean small states",
          "Cuba",
          "Curacao",
          "Cayman Islands",
          "Cyprus",
          "Czechia",
          "Germany",
          "Djibouti",
          "Dominica",
          "Denmark",
          "Dominican Republic",
          "Algeria",
          "East Asia & Pacific (excluding high income)",
          "Early-demographic dividend",
          "East Asia & Pacific",
          "Europe & Central Asia (excluding high income)",
          "Europe & Central Asia",
          "Ecuador",
          "Egypt, Arab Rep.",
          "Euro area",
          "Eritrea",
          "Spain",
          "Estonia",
          "Ethiopia",
          "European Union",
          "Fragile and conflict affected situations",
          "Finland",
          "Fiji",
          "France",
          "Faroe Islands",
          "Micronesia, Fed. Sts.",
          "Gabon",
          "United Kingdom",
          "Georgia",
          "Ghana",
          "Gibraltar",
          "Guinea",
          "Gambia, The",
          "Guinea-Bissau",
          "Equatorial Guinea",
          "Greece",
          "Grenada",
          "Greenland",
          "Guatemala",
          "Guam",
          "Guyana",
          "High income",
          "Hong Kong SAR, China",
          "Honduras",
          "Heavily indebted poor countries (HIPC)",
          "Croatia",
          "Haiti",
          "Hungary",
          "IBRD only",
          "IDA & IBRD total",
          "IDA total",
          "IDA blend",
          "Indonesia",
          "IDA only",
          "Isle of Man",
          "India",
          "Not classified",
          "Ireland",
          "Iran, Islamic Rep.",
          "Iraq",
          "Iceland",
          "Israel",
          "Italy",
          "Jamaica",
          "Jordan",
          "Japan",
          "Kazakhstan",
          "Kenya",
          "Kyrgyz Republic",
          "Cambodia",
          "Kiribati",
          "St. Kitts and Nevis",
          "Korea, Rep.",
          "Kuwait",
          "Latin America & Caribbean (excluding high income)",
          "Lao PDR",
          "Lebanon",
          "Liberia",
          "Libya",
          "St. Lucia",
          "Latin America & Caribbean",
          "Least developed countries: UN classification",
          "Low income",
          "Liechtenstein",
          "Sri Lanka",
          "Lower middle income",
          "Low & middle income",
          "Lesotho",
          "Late-demographic dividend",
          "Lithuania",
          "Luxembourg",
          "Latvia",
          "Macao SAR, China",
          "St. Martin (French part)",
          "Morocco",
          "Monaco",
          "Moldova",
          "Madagascar",
          "Maldives",
          "Middle East & North Africa",
          "Mexico",
          "Marshall Islands",
          "Middle income",
          "North Macedonia",
          "Mali",
          "Malta",
          "Myanmar",
          "Middle East & North Africa (excluding high income)",
          "Montenegro",
          "Mongolia",
          "Northern Mariana Islands",
          "Mozambique",
          "Mauritania",
          "Mauritius",
          "Malawi",
          "Malaysia",
          "North America",
          "Namibia",
          "New Caledonia",
          "Niger",
          "Nigeria",
          "Nicaragua",
          "Netherlands",
          "Norway",
          "Nepal",
          "Nauru",
          "New Zealand",
          "OECD members",
          "Oman",
          "Other small states",
          "Pakistan",
          "Panama",
          "Peru",
          "Philippines",
          "Palau",
          "Papua New Guinea",
          "Poland",
          "Pre-demographic dividend",
          "Puerto Rico",
          "Korea, Dem. People's Rep.",
          "Portugal",
          "Paraguay",
          "West Bank and Gaza",
          "Pacific island small states",
          "Post-demographic dividend",
          "French Polynesia",
          "Qatar",
          "Romania",
          "Russian Federation",
          "Rwanda",
          "South Asia",
          "Saudi Arabia",
          "Sudan",
          "Senegal",
          "Singapore",
          "Solomon Islands",
          "Sierra Leone",
          "El Salvador",
          "San Marino",
          "Somalia",
          "Serbia",
          "Sub-Saharan Africa (excluding high income)",
          "South Sudan",
          "Sub-Saharan Africa",
          "Small states",
          "Sao Tome and Principe",
          "Suriname",
          "Slovak Republic",
          "Slovenia",
          "Sweden",
          "Eswatini",
          "Sint Maarten (Dutch part)",
          "Seychelles",
          "Syrian Arab Republic",
          "Turks and Caicos Islands",
          "Chad",
          "East Asia & Pacific (IDA & IBRD countries)",
          "Europe & Central Asia (IDA & IBRD countries)",
          "Togo",
          "Thailand",
          "Tajikistan",
          "Turkmenistan",
          "Latin America & the Caribbean (IDA & IBRD countries)",
          "Timor-Leste",
          "Middle East & North Africa (IDA & IBRD countries)",
          "Tonga",
          "South Asia (IDA & IBRD)",
          "Sub-Saharan Africa (IDA & IBRD countries)",
          "Trinidad and Tobago",
          "Tunisia",
          "Turkiye",
          "Tuvalu",
          "Tanzania",
          "Uganda",
          "Ukraine",
          "Upper middle income",
          "Uruguay",
          "United States",
          "Uzbekistan",
          "St. Vincent and the Grenadines",
          "Venezuela, RB",
          "British Virgin Islands",
          "Virgin Islands (U.S.)",
          "Vietnam",
          "Vanuatu",
          "World",
          "Samoa",
          "Kosovo",
          "Yemen, Rep.",
          "South Africa",
          "Zambia",
          "Zimbabwe"
         ],
         "name": "",
         "type": "choropleth",
         "z": [
          30220.59452,
          1564.73434,
          502.0567706,
          1731.311792,
          2487.500996,
          5287.663694,
          42903.44358,
          6474.29534,
          46722.26872,
          11795.15939,
          4391.923697,
          13195.9359,
          17527.16963,
          57207.87151,
          51466.55656,
          4739.84171,
          231.4464765,
          47544.98115,
          1194.438214,
          779.2027097,
          1963.411855,
          9446.717094,
          25415.84662,
          31738.26716,
          5936.101502,
          6360.062473,
          6059.162553,
          113050.7369,
          3471.006951,
          9121.083403,
          18224.89059,
          31241.45396,
          3210.706269,
          6947.800812,
          435.9322636,
          46548.63841,
          16086.31826,
          85217.36915,
          null,
          15795.70846,
          9905.342004,
          2275.49595,
          1594.05999,
          546.2125939,
          2512.383979,
          6782.03792,
          1531.337972,
          3442.742003,
          12383.14997,
          10353.11645,
          8831.907222,
          18956.09797,
          85234.84272,
          29418.93555,
          23424.48046,
          47939.27829,
          2755.838293,
          7833.195013,
          61591.92887,
          7947.158207,
          4171.795011,
          7944.551234,
          3467.178198,
          11310.49888,
          7994.780168,
          25243.79473,
          6321.349401,
          2407.086543,
          40045.56602,
          null,
          30379.72111,
          23165.84948,
          758.2990596,
          35751.21997,
          1858.132956,
          49987.62616,
          6073.336388,
          41557.85486,
          62576.98993,
          3623.329337,
          7694.906045,
          43306.3083,
          4722.042423,
          2180.04157,
          null,
          944.4172662,
          683.3243631,
          781.6443091,
          8719.186217,
          19756.99046,
          9574.279873,
          54545.29998,
          4485.731255,
          35902.7259,
          6094.908859,
          44527.61041,
          48537.56689,
          2457.688921,
          972.3160176,
          15244.43105,
          1494.224962,
          16425.1013,
          6361.337738,
          5076.592986,
          1415.317206,
          1874.947566,
          3902.661668,
          1187.657388,
          89429.65459,
          1974.377788,
          null,
          79250.38785,
          3873.99534,
          5601.467061,
          74461.48,
          42406.84543,
          34622.16967,
          5594.493935,
          4146.407296,
          39727.1166,
          9812.626371,
          1845.78294,
          1308.140165,
          1533.315985,
          1605.01365,
          22547.91799,
          33436.92306,
          32007.52354,
          8384.845373,
          2553.361866,
          9225.845155,
          700.0370394,
          11838.00962,
          11563.83747,
          8916.089485,
          1073.320974,
          758.744711,
          175283.6318,
          4360.583634,
          2323.931742,
          4900.573676,
          1161.7271,
          9839.4686,
          19186.35959,
          116786.5117,
          17865.03109,
          84923.38678,
          null,
          3492.67334,
          194280.8221,
          4232.206888,
          512.5439846,
          10823.63669,
          7476.772457,
          9857.028829,
          4769.190459,
          5384.002157,
          6108.740108,
          856.3565318,
          31567.94224,
          1274.915657,
          3491.192578,
          8850.092733,
          4165.022739,
          25882.63359,
          504.53589,
          1749.954236,
          11645.98198,
          537.9322041,
          11074.06409,
          61174.77734,
          5687.399093,
          36312.72787,
          567.3308067,
          2125.834282,
          1981.85912,
          53044.53244,
          82267.80932,
          1161.534374,
          10400.98907,
          43250.44097,
          39348.31436,
          19887.57431,
          14062.50398,
          1620.742857,
          15588.33733,
          6912.110297,
          3194.674521,
          15948.27586,
          2584.298769,
          15504.58048,
          1455.859757,
          31615.06679,
          null,
          23562.55452,
          6242.961454,
          3562.330943,
          4283.741566,
          45382.30693,
          20614.89886,
          66264.08117,
          12494.47747,
          11287.36035,
          769.4373107,
          1920.208396,
          23318.73817,
          769.8691406,
          1484.239673,
          66859.33834,
          2450.484428,
          519.6500156,
          4145.862351,
          48462.96032,
          379.9860027,
          7252.401858,
          1630.238971,
          null,
          1631.593697,
          12808.19088,
          1950.629352,
          6730.846883,
          19486.39368,
          26123.74713,
          54589.06039,
          4020.27305,
          28988.25921,
          16910.68818,
          1104.392448,
          26831.97146,
          720.265047,
          8032.798909,
          8870.39705,
          883.8678323,
          7124.564544,
          850.6685075,
          6721.34954,
          8754.293268,
          1239.366122,
          3490.367204,
          4649.57939,
          1920.208396,
          1631.593697,
          16164.16133,
          3577.124412,
          9400.778214,
          4401.131201,
          1010.937622,
          793.1280811,
          3096.561768,
          9435.780828,
          18825.28381,
          62823.30944,
          1597.068337,
          8399.694011,
          null,
          null,
          36653.86305,
          3267.225009,
          3076.835315,
          11285.49764,
          4188.988532,
          4384.048892,
          701.7148778,
          7048.522211,
          1475.204538,
          2269.177012
         ]
        }
       ],
       "layout": {
        "coloraxis": {
         "cmax": 100000,
         "cmin": 0,
         "colorbar": {
          "title": {
           "text": "2018"
          }
         },
         "colorscale": [
          [
           0,
           "rgb(3, 35, 51)"
          ],
          [
           0.09090909090909091,
           "rgb(13, 48, 100)"
          ],
          [
           0.18181818181818182,
           "rgb(53, 50, 155)"
          ],
          [
           0.2727272727272727,
           "rgb(93, 62, 153)"
          ],
          [
           0.36363636363636365,
           "rgb(126, 77, 143)"
          ],
          [
           0.45454545454545453,
           "rgb(158, 89, 135)"
          ],
          [
           0.5454545454545454,
           "rgb(193, 100, 121)"
          ],
          [
           0.6363636363636364,
           "rgb(225, 113, 97)"
          ],
          [
           0.7272727272727273,
           "rgb(246, 139, 69)"
          ],
          [
           0.8181818181818182,
           "rgb(251, 173, 60)"
          ],
          [
           0.9090909090909091,
           "rgb(246, 211, 70)"
          ],
          [
           1,
           "rgb(231, 250, 90)"
          ]
         ]
        },
        "geo": {
         "center": {},
         "domain": {
          "x": [
           0,
           1
          ],
          "y": [
           0,
           1
          ]
         }
        },
        "legend": {
         "tracegroupgap": 0
        },
        "template": {
         "data": {
          "bar": [
           {
            "error_x": {
             "color": "#2a3f5f"
            },
            "error_y": {
             "color": "#2a3f5f"
            },
            "marker": {
             "line": {
              "color": "#E5ECF6",
              "width": 0.5
             },
             "pattern": {
              "fillmode": "overlay",
              "size": 10,
              "solidity": 0.2
             }
            },
            "type": "bar"
           }
          ],
          "barpolar": [
           {
            "marker": {
             "line": {
              "color": "#E5ECF6",
              "width": 0.5
             },
             "pattern": {
              "fillmode": "overlay",
              "size": 10,
              "solidity": 0.2
             }
            },
            "type": "barpolar"
           }
          ],
          "carpet": [
           {
            "aaxis": {
             "endlinecolor": "#2a3f5f",
             "gridcolor": "white",
             "linecolor": "white",
             "minorgridcolor": "white",
             "startlinecolor": "#2a3f5f"
            },
            "baxis": {
             "endlinecolor": "#2a3f5f",
             "gridcolor": "white",
             "linecolor": "white",
             "minorgridcolor": "white",
             "startlinecolor": "#2a3f5f"
            },
            "type": "carpet"
           }
          ],
          "choropleth": [
           {
            "colorbar": {
             "outlinewidth": 0,
             "ticks": ""
            },
            "type": "choropleth"
           }
          ],
          "contour": [
           {
            "colorbar": {
             "outlinewidth": 0,
             "ticks": ""
            },
            "colorscale": [
             [
              0,
              "#0d0887"
             ],
             [
              0.1111111111111111,
              "#46039f"
             ],
             [
              0.2222222222222222,
              "#7201a8"
             ],
             [
              0.3333333333333333,
              "#9c179e"
             ],
             [
              0.4444444444444444,
              "#bd3786"
             ],
             [
              0.5555555555555556,
              "#d8576b"
             ],
             [
              0.6666666666666666,
              "#ed7953"
             ],
             [
              0.7777777777777778,
              "#fb9f3a"
             ],
             [
              0.8888888888888888,
              "#fdca26"
             ],
             [
              1,
              "#f0f921"
             ]
            ],
            "type": "contour"
           }
          ],
          "contourcarpet": [
           {
            "colorbar": {
             "outlinewidth": 0,
             "ticks": ""
            },
            "type": "contourcarpet"
           }
          ],
          "heatmap": [
           {
            "colorbar": {
             "outlinewidth": 0,
             "ticks": ""
            },
            "colorscale": [
             [
              0,
              "#0d0887"
             ],
             [
              0.1111111111111111,
              "#46039f"
             ],
             [
              0.2222222222222222,
              "#7201a8"
             ],
             [
              0.3333333333333333,
              "#9c179e"
             ],
             [
              0.4444444444444444,
              "#bd3786"
             ],
             [
              0.5555555555555556,
              "#d8576b"
             ],
             [
              0.6666666666666666,
              "#ed7953"
             ],
             [
              0.7777777777777778,
              "#fb9f3a"
             ],
             [
              0.8888888888888888,
              "#fdca26"
             ],
             [
              1,
              "#f0f921"
             ]
            ],
            "type": "heatmap"
           }
          ],
          "heatmapgl": [
           {
            "colorbar": {
             "outlinewidth": 0,
             "ticks": ""
            },
            "colorscale": [
             [
              0,
              "#0d0887"
             ],
             [
              0.1111111111111111,
              "#46039f"
             ],
             [
              0.2222222222222222,
              "#7201a8"
             ],
             [
              0.3333333333333333,
              "#9c179e"
             ],
             [
              0.4444444444444444,
              "#bd3786"
             ],
             [
              0.5555555555555556,
              "#d8576b"
             ],
             [
              0.6666666666666666,
              "#ed7953"
             ],
             [
              0.7777777777777778,
              "#fb9f3a"
             ],
             [
              0.8888888888888888,
              "#fdca26"
             ],
             [
              1,
              "#f0f921"
             ]
            ],
            "type": "heatmapgl"
           }
          ],
          "histogram": [
           {
            "marker": {
             "pattern": {
              "fillmode": "overlay",
              "size": 10,
              "solidity": 0.2
             }
            },
            "type": "histogram"
           }
          ],
          "histogram2d": [
           {
            "colorbar": {
             "outlinewidth": 0,
             "ticks": ""
            },
            "colorscale": [
             [
              0,
              "#0d0887"
             ],
             [
              0.1111111111111111,
              "#46039f"
             ],
             [
              0.2222222222222222,
              "#7201a8"
             ],
             [
              0.3333333333333333,
              "#9c179e"
             ],
             [
              0.4444444444444444,
              "#bd3786"
             ],
             [
              0.5555555555555556,
              "#d8576b"
             ],
             [
              0.6666666666666666,
              "#ed7953"
             ],
             [
              0.7777777777777778,
              "#fb9f3a"
             ],
             [
              0.8888888888888888,
              "#fdca26"
             ],
             [
              1,
              "#f0f921"
             ]
            ],
            "type": "histogram2d"
           }
          ],
          "histogram2dcontour": [
           {
            "colorbar": {
             "outlinewidth": 0,
             "ticks": ""
            },
            "colorscale": [
             [
              0,
              "#0d0887"
             ],
             [
              0.1111111111111111,
              "#46039f"
             ],
             [
              0.2222222222222222,
              "#7201a8"
             ],
             [
              0.3333333333333333,
              "#9c179e"
             ],
             [
              0.4444444444444444,
              "#bd3786"
             ],
             [
              0.5555555555555556,
              "#d8576b"
             ],
             [
              0.6666666666666666,
              "#ed7953"
             ],
             [
              0.7777777777777778,
              "#fb9f3a"
             ],
             [
              0.8888888888888888,
              "#fdca26"
             ],
             [
              1,
              "#f0f921"
             ]
            ],
            "type": "histogram2dcontour"
           }
          ],
          "mesh3d": [
           {
            "colorbar": {
             "outlinewidth": 0,
             "ticks": ""
            },
            "type": "mesh3d"
           }
          ],
          "parcoords": [
           {
            "line": {
             "colorbar": {
              "outlinewidth": 0,
              "ticks": ""
             }
            },
            "type": "parcoords"
           }
          ],
          "pie": [
           {
            "automargin": true,
            "type": "pie"
           }
          ],
          "scatter": [
           {
            "fillpattern": {
             "fillmode": "overlay",
             "size": 10,
             "solidity": 0.2
            },
            "type": "scatter"
           }
          ],
          "scatter3d": [
           {
            "line": {
             "colorbar": {
              "outlinewidth": 0,
              "ticks": ""
             }
            },
            "marker": {
             "colorbar": {
              "outlinewidth": 0,
              "ticks": ""
             }
            },
            "type": "scatter3d"
           }
          ],
          "scattercarpet": [
           {
            "marker": {
             "colorbar": {
              "outlinewidth": 0,
              "ticks": ""
             }
            },
            "type": "scattercarpet"
           }
          ],
          "scattergeo": [
           {
            "marker": {
             "colorbar": {
              "outlinewidth": 0,
              "ticks": ""
             }
            },
            "type": "scattergeo"
           }
          ],
          "scattergl": [
           {
            "marker": {
             "colorbar": {
              "outlinewidth": 0,
              "ticks": ""
             }
            },
            "type": "scattergl"
           }
          ],
          "scattermapbox": [
           {
            "marker": {
             "colorbar": {
              "outlinewidth": 0,
              "ticks": ""
             }
            },
            "type": "scattermapbox"
           }
          ],
          "scatterpolar": [
           {
            "marker": {
             "colorbar": {
              "outlinewidth": 0,
              "ticks": ""
             }
            },
            "type": "scatterpolar"
           }
          ],
          "scatterpolargl": [
           {
            "marker": {
             "colorbar": {
              "outlinewidth": 0,
              "ticks": ""
             }
            },
            "type": "scatterpolargl"
           }
          ],
          "scatterternary": [
           {
            "marker": {
             "colorbar": {
              "outlinewidth": 0,
              "ticks": ""
             }
            },
            "type": "scatterternary"
           }
          ],
          "surface": [
           {
            "colorbar": {
             "outlinewidth": 0,
             "ticks": ""
            },
            "colorscale": [
             [
              0,
              "#0d0887"
             ],
             [
              0.1111111111111111,
              "#46039f"
             ],
             [
              0.2222222222222222,
              "#7201a8"
             ],
             [
              0.3333333333333333,
              "#9c179e"
             ],
             [
              0.4444444444444444,
              "#bd3786"
             ],
             [
              0.5555555555555556,
              "#d8576b"
             ],
             [
              0.6666666666666666,
              "#ed7953"
             ],
             [
              0.7777777777777778,
              "#fb9f3a"
             ],
             [
              0.8888888888888888,
              "#fdca26"
             ],
             [
              1,
              "#f0f921"
             ]
            ],
            "type": "surface"
           }
          ],
          "table": [
           {
            "cells": {
             "fill": {
              "color": "#EBF0F8"
             },
             "line": {
              "color": "white"
             }
            },
            "header": {
             "fill": {
              "color": "#C8D4E3"
             },
             "line": {
              "color": "white"
             }
            },
            "type": "table"
           }
          ]
         },
         "layout": {
          "annotationdefaults": {
           "arrowcolor": "#2a3f5f",
           "arrowhead": 0,
           "arrowwidth": 1
          },
          "autotypenumbers": "strict",
          "coloraxis": {
           "colorbar": {
            "outlinewidth": 0,
            "ticks": ""
           }
          },
          "colorscale": {
           "diverging": [
            [
             0,
             "#8e0152"
            ],
            [
             0.1,
             "#c51b7d"
            ],
            [
             0.2,
             "#de77ae"
            ],
            [
             0.3,
             "#f1b6da"
            ],
            [
             0.4,
             "#fde0ef"
            ],
            [
             0.5,
             "#f7f7f7"
            ],
            [
             0.6,
             "#e6f5d0"
            ],
            [
             0.7,
             "#b8e186"
            ],
            [
             0.8,
             "#7fbc41"
            ],
            [
             0.9,
             "#4d9221"
            ],
            [
             1,
             "#276419"
            ]
           ],
           "sequential": [
            [
             0,
             "#0d0887"
            ],
            [
             0.1111111111111111,
             "#46039f"
            ],
            [
             0.2222222222222222,
             "#7201a8"
            ],
            [
             0.3333333333333333,
             "#9c179e"
            ],
            [
             0.4444444444444444,
             "#bd3786"
            ],
            [
             0.5555555555555556,
             "#d8576b"
            ],
            [
             0.6666666666666666,
             "#ed7953"
            ],
            [
             0.7777777777777778,
             "#fb9f3a"
            ],
            [
             0.8888888888888888,
             "#fdca26"
            ],
            [
             1,
             "#f0f921"
            ]
           ],
           "sequentialminus": [
            [
             0,
             "#0d0887"
            ],
            [
             0.1111111111111111,
             "#46039f"
            ],
            [
             0.2222222222222222,
             "#7201a8"
            ],
            [
             0.3333333333333333,
             "#9c179e"
            ],
            [
             0.4444444444444444,
             "#bd3786"
            ],
            [
             0.5555555555555556,
             "#d8576b"
            ],
            [
             0.6666666666666666,
             "#ed7953"
            ],
            [
             0.7777777777777778,
             "#fb9f3a"
            ],
            [
             0.8888888888888888,
             "#fdca26"
            ],
            [
             1,
             "#f0f921"
            ]
           ]
          },
          "colorway": [
           "#636efa",
           "#EF553B",
           "#00cc96",
           "#ab63fa",
           "#FFA15A",
           "#19d3f3",
           "#FF6692",
           "#B6E880",
           "#FF97FF",
           "#FECB52"
          ],
          "font": {
           "color": "#2a3f5f"
          },
          "geo": {
           "bgcolor": "white",
           "lakecolor": "white",
           "landcolor": "#E5ECF6",
           "showlakes": true,
           "showland": true,
           "subunitcolor": "white"
          },
          "hoverlabel": {
           "align": "left"
          },
          "hovermode": "closest",
          "mapbox": {
           "style": "light"
          },
          "paper_bgcolor": "white",
          "plot_bgcolor": "#E5ECF6",
          "polar": {
           "angularaxis": {
            "gridcolor": "white",
            "linecolor": "white",
            "ticks": ""
           },
           "bgcolor": "#E5ECF6",
           "radialaxis": {
            "gridcolor": "white",
            "linecolor": "white",
            "ticks": ""
           }
          },
          "scene": {
           "xaxis": {
            "backgroundcolor": "#E5ECF6",
            "gridcolor": "white",
            "gridwidth": 2,
            "linecolor": "white",
            "showbackground": true,
            "ticks": "",
            "zerolinecolor": "white"
           },
           "yaxis": {
            "backgroundcolor": "#E5ECF6",
            "gridcolor": "white",
            "gridwidth": 2,
            "linecolor": "white",
            "showbackground": true,
            "ticks": "",
            "zerolinecolor": "white"
           },
           "zaxis": {
            "backgroundcolor": "#E5ECF6",
            "gridcolor": "white",
            "gridwidth": 2,
            "linecolor": "white",
            "showbackground": true,
            "ticks": "",
            "zerolinecolor": "white"
           }
          },
          "shapedefaults": {
           "line": {
            "color": "#2a3f5f"
           }
          },
          "ternary": {
           "aaxis": {
            "gridcolor": "white",
            "linecolor": "white",
            "ticks": ""
           },
           "baxis": {
            "gridcolor": "white",
            "linecolor": "white",
            "ticks": ""
           },
           "bgcolor": "#E5ECF6",
           "caxis": {
            "gridcolor": "white",
            "linecolor": "white",
            "ticks": ""
           }
          },
          "title": {
           "x": 0.05
          },
          "xaxis": {
           "automargin": true,
           "gridcolor": "white",
           "linecolor": "white",
           "ticks": "",
           "title": {
            "standoff": 15
           },
           "zerolinecolor": "white",
           "zerolinewidth": 2
          },
          "yaxis": {
           "automargin": true,
           "gridcolor": "white",
           "linecolor": "white",
           "ticks": "",
           "title": {
            "standoff": 15
           },
           "zerolinecolor": "white",
           "zerolinewidth": 2
          }
         }
        },
        "title": {
         "text": "Evolução do PIB per capita por país"
        }
       }
      }
     },
     "metadata": {},
     "output_type": "display_data"
    }
   ],
   "source": [
    "#Agora vamos fazer um mapa de onde quando mais quente for a cor maior será o pib per capta e a cor mais fria menor será o pib per capita, interativo com uma linha do tempo de 1960 a 2018\n",
    "fig = px.choropleth(paises, locations=\"Country Name\", locationmode='country names', color=\"2018\", hover_name=\"Country Name\", range_color=[0,100000], color_continuous_scale=\"thermal\", title='Evolução do PIB per capita por país')\n",
    "fig.show()"
   ]
  },
  {
   "cell_type": "code",
   "execution_count": 8,
   "metadata": {},
   "outputs": [
    {
     "data": {
      "text/html": [
       "<div>\n",
       "<style scoped>\n",
       "    .dataframe tbody tr th:only-of-type {\n",
       "        vertical-align: middle;\n",
       "    }\n",
       "\n",
       "    .dataframe tbody tr th {\n",
       "        vertical-align: top;\n",
       "    }\n",
       "\n",
       "    .dataframe thead th {\n",
       "        text-align: right;\n",
       "    }\n",
       "</style>\n",
       "<table border=\"1\" class=\"dataframe\">\n",
       "  <thead>\n",
       "    <tr style=\"text-align: right;\">\n",
       "      <th></th>\n",
       "      <th>Country Code</th>\n",
       "      <th>Indicator Code</th>\n",
       "      <th>1960</th>\n",
       "      <th>1961</th>\n",
       "      <th>1962</th>\n",
       "      <th>1963</th>\n",
       "      <th>1964</th>\n",
       "      <th>1965</th>\n",
       "      <th>1966</th>\n",
       "      <th>1967</th>\n",
       "      <th>...</th>\n",
       "      <th>2013</th>\n",
       "      <th>2014</th>\n",
       "      <th>2015</th>\n",
       "      <th>2016</th>\n",
       "      <th>2017</th>\n",
       "      <th>2018</th>\n",
       "      <th>2019</th>\n",
       "      <th>2020</th>\n",
       "      <th>2021</th>\n",
       "      <th>2022</th>\n",
       "    </tr>\n",
       "  </thead>\n",
       "  <tbody>\n",
       "    <tr>\n",
       "      <th>0</th>\n",
       "      <td>ABW</td>\n",
       "      <td>NY.GDP.PCAP.CD</td>\n",
       "      <td>NaN</td>\n",
       "      <td>NaN</td>\n",
       "      <td>NaN</td>\n",
       "      <td>NaN</td>\n",
       "      <td>NaN</td>\n",
       "      <td>NaN</td>\n",
       "      <td>NaN</td>\n",
       "      <td>NaN</td>\n",
       "      <td>...</td>\n",
       "      <td>26515.678080</td>\n",
       "      <td>26942.307980</td>\n",
       "      <td>28421.386490</td>\n",
       "      <td>28451.273740</td>\n",
       "      <td>29326.708060</td>\n",
       "      <td>30220.594520</td>\n",
       "      <td>31650.760540</td>\n",
       "      <td>24487.863560</td>\n",
       "      <td>29342.100860</td>\n",
       "      <td>NaN</td>\n",
       "    </tr>\n",
       "    <tr>\n",
       "      <th>1</th>\n",
       "      <td>AFE</td>\n",
       "      <td>NY.GDP.PCAP.CD</td>\n",
       "      <td>162.913035</td>\n",
       "      <td>162.551683</td>\n",
       "      <td>172.002460</td>\n",
       "      <td>199.189238</td>\n",
       "      <td>179.387799</td>\n",
       "      <td>198.230368</td>\n",
       "      <td>209.414665</td>\n",
       "      <td>211.707060</td>\n",
       "      <td>...</td>\n",
       "      <td>1730.394686</td>\n",
       "      <td>1719.183721</td>\n",
       "      <td>1538.552268</td>\n",
       "      <td>1443.692371</td>\n",
       "      <td>1628.586788</td>\n",
       "      <td>1564.734340</td>\n",
       "      <td>1512.270553</td>\n",
       "      <td>1363.540741</td>\n",
       "      <td>1549.772730</td>\n",
       "      <td>NaN</td>\n",
       "    </tr>\n",
       "    <tr>\n",
       "      <th>2</th>\n",
       "      <td>AFG</td>\n",
       "      <td>NY.GDP.PCAP.CD</td>\n",
       "      <td>62.369375</td>\n",
       "      <td>62.443703</td>\n",
       "      <td>60.950364</td>\n",
       "      <td>82.021738</td>\n",
       "      <td>85.511073</td>\n",
       "      <td>105.243196</td>\n",
       "      <td>143.103233</td>\n",
       "      <td>167.165675</td>\n",
       "      <td>...</td>\n",
       "      <td>651.987862</td>\n",
       "      <td>628.146804</td>\n",
       "      <td>592.476537</td>\n",
       "      <td>520.252064</td>\n",
       "      <td>530.149831</td>\n",
       "      <td>502.056771</td>\n",
       "      <td>500.522664</td>\n",
       "      <td>516.866552</td>\n",
       "      <td>368.754614</td>\n",
       "      <td>NaN</td>\n",
       "    </tr>\n",
       "    <tr>\n",
       "      <th>3</th>\n",
       "      <td>AFW</td>\n",
       "      <td>NY.GDP.PCAP.CD</td>\n",
       "      <td>106.976475</td>\n",
       "      <td>112.047561</td>\n",
       "      <td>117.730633</td>\n",
       "      <td>122.278715</td>\n",
       "      <td>130.599963</td>\n",
       "      <td>137.186142</td>\n",
       "      <td>142.895375</td>\n",
       "      <td>127.303606</td>\n",
       "      <td>...</td>\n",
       "      <td>2149.295219</td>\n",
       "      <td>2243.271464</td>\n",
       "      <td>1876.623483</td>\n",
       "      <td>1645.023767</td>\n",
       "      <td>1585.911930</td>\n",
       "      <td>1731.311792</td>\n",
       "      <td>1749.303317</td>\n",
       "      <td>1683.436391</td>\n",
       "      <td>1757.030626</td>\n",
       "      <td>NaN</td>\n",
       "    </tr>\n",
       "    <tr>\n",
       "      <th>4</th>\n",
       "      <td>AGO</td>\n",
       "      <td>NY.GDP.PCAP.CD</td>\n",
       "      <td>NaN</td>\n",
       "      <td>NaN</td>\n",
       "      <td>NaN</td>\n",
       "      <td>NaN</td>\n",
       "      <td>NaN</td>\n",
       "      <td>NaN</td>\n",
       "      <td>NaN</td>\n",
       "      <td>NaN</td>\n",
       "      <td>...</td>\n",
       "      <td>5101.983876</td>\n",
       "      <td>5059.080441</td>\n",
       "      <td>3100.830685</td>\n",
       "      <td>1709.515534</td>\n",
       "      <td>2283.214233</td>\n",
       "      <td>2487.500996</td>\n",
       "      <td>2142.238757</td>\n",
       "      <td>1603.993477</td>\n",
       "      <td>1953.533757</td>\n",
       "      <td>NaN</td>\n",
       "    </tr>\n",
       "  </tbody>\n",
       "</table>\n",
       "<p>5 rows × 65 columns</p>\n",
       "</div>"
      ],
      "text/plain": [
       "  Country Code  Indicator Code        1960        1961        1962  \\\n",
       "0          ABW  NY.GDP.PCAP.CD         NaN         NaN         NaN   \n",
       "1          AFE  NY.GDP.PCAP.CD  162.913035  162.551683  172.002460   \n",
       "2          AFG  NY.GDP.PCAP.CD   62.369375   62.443703   60.950364   \n",
       "3          AFW  NY.GDP.PCAP.CD  106.976475  112.047561  117.730633   \n",
       "4          AGO  NY.GDP.PCAP.CD         NaN         NaN         NaN   \n",
       "\n",
       "         1963        1964        1965        1966        1967  ...  \\\n",
       "0         NaN         NaN         NaN         NaN         NaN  ...   \n",
       "1  199.189238  179.387799  198.230368  209.414665  211.707060  ...   \n",
       "2   82.021738   85.511073  105.243196  143.103233  167.165675  ...   \n",
       "3  122.278715  130.599963  137.186142  142.895375  127.303606  ...   \n",
       "4         NaN         NaN         NaN         NaN         NaN  ...   \n",
       "\n",
       "           2013          2014          2015          2016          2017  \\\n",
       "0  26515.678080  26942.307980  28421.386490  28451.273740  29326.708060   \n",
       "1   1730.394686   1719.183721   1538.552268   1443.692371   1628.586788   \n",
       "2    651.987862    628.146804    592.476537    520.252064    530.149831   \n",
       "3   2149.295219   2243.271464   1876.623483   1645.023767   1585.911930   \n",
       "4   5101.983876   5059.080441   3100.830685   1709.515534   2283.214233   \n",
       "\n",
       "           2018          2019          2020          2021  2022  \n",
       "0  30220.594520  31650.760540  24487.863560  29342.100860   NaN  \n",
       "1   1564.734340   1512.270553   1363.540741   1549.772730   NaN  \n",
       "2    502.056771    500.522664    516.866552    368.754614   NaN  \n",
       "3   1731.311792   1749.303317   1683.436391   1757.030626   NaN  \n",
       "4   2487.500996   2142.238757   1603.993477   1953.533757   NaN  \n",
       "\n",
       "[5 rows x 65 columns]"
      ]
     },
     "execution_count": 8,
     "metadata": {},
     "output_type": "execute_result"
    }
   ],
   "source": [
    "#Agora vamos ver a evolução do pib per capita mundial de 1960 a 2018\n",
    "evolucao=paises.drop(columns=['Country Name'])\n",
    "evolucao.head()\n"
   ]
  },
  {
   "cell_type": "code",
   "execution_count": 11,
   "metadata": {},
   "outputs": [
    {
     "data": {
      "text/html": [
       "<div>\n",
       "<style scoped>\n",
       "    .dataframe tbody tr th:only-of-type {\n",
       "        vertical-align: middle;\n",
       "    }\n",
       "\n",
       "    .dataframe tbody tr th {\n",
       "        vertical-align: top;\n",
       "    }\n",
       "\n",
       "    .dataframe thead th {\n",
       "        text-align: right;\n",
       "    }\n",
       "</style>\n",
       "<table border=\"1\" class=\"dataframe\">\n",
       "  <thead>\n",
       "    <tr style=\"text-align: right;\">\n",
       "      <th></th>\n",
       "      <th>1960</th>\n",
       "      <th>1961</th>\n",
       "      <th>1962</th>\n",
       "      <th>1963</th>\n",
       "      <th>1964</th>\n",
       "      <th>1965</th>\n",
       "      <th>1966</th>\n",
       "      <th>1967</th>\n",
       "      <th>1968</th>\n",
       "      <th>1969</th>\n",
       "      <th>...</th>\n",
       "      <th>2013</th>\n",
       "      <th>2014</th>\n",
       "      <th>2015</th>\n",
       "      <th>2016</th>\n",
       "      <th>2017</th>\n",
       "      <th>2018</th>\n",
       "      <th>2019</th>\n",
       "      <th>2020</th>\n",
       "      <th>2021</th>\n",
       "      <th>2022</th>\n",
       "    </tr>\n",
       "  </thead>\n",
       "  <tbody>\n",
       "    <tr>\n",
       "      <th>0</th>\n",
       "      <td>NaN</td>\n",
       "      <td>NaN</td>\n",
       "      <td>NaN</td>\n",
       "      <td>NaN</td>\n",
       "      <td>NaN</td>\n",
       "      <td>NaN</td>\n",
       "      <td>NaN</td>\n",
       "      <td>NaN</td>\n",
       "      <td>NaN</td>\n",
       "      <td>NaN</td>\n",
       "      <td>...</td>\n",
       "      <td>26515.678080</td>\n",
       "      <td>26942.307980</td>\n",
       "      <td>28421.386490</td>\n",
       "      <td>28451.273740</td>\n",
       "      <td>29326.708060</td>\n",
       "      <td>30220.594520</td>\n",
       "      <td>31650.760540</td>\n",
       "      <td>24487.863560</td>\n",
       "      <td>29342.100860</td>\n",
       "      <td>NaN</td>\n",
       "    </tr>\n",
       "    <tr>\n",
       "      <th>1</th>\n",
       "      <td>162.913035</td>\n",
       "      <td>162.551683</td>\n",
       "      <td>172.002460</td>\n",
       "      <td>199.189238</td>\n",
       "      <td>179.387799</td>\n",
       "      <td>198.230368</td>\n",
       "      <td>209.414665</td>\n",
       "      <td>211.707060</td>\n",
       "      <td>224.239783</td>\n",
       "      <td>249.589133</td>\n",
       "      <td>...</td>\n",
       "      <td>1730.394686</td>\n",
       "      <td>1719.183721</td>\n",
       "      <td>1538.552268</td>\n",
       "      <td>1443.692371</td>\n",
       "      <td>1628.586788</td>\n",
       "      <td>1564.734340</td>\n",
       "      <td>1512.270553</td>\n",
       "      <td>1363.540741</td>\n",
       "      <td>1549.772730</td>\n",
       "      <td>NaN</td>\n",
       "    </tr>\n",
       "    <tr>\n",
       "      <th>2</th>\n",
       "      <td>62.369375</td>\n",
       "      <td>62.443703</td>\n",
       "      <td>60.950364</td>\n",
       "      <td>82.021738</td>\n",
       "      <td>85.511073</td>\n",
       "      <td>105.243196</td>\n",
       "      <td>143.103233</td>\n",
       "      <td>167.165675</td>\n",
       "      <td>134.012768</td>\n",
       "      <td>134.250360</td>\n",
       "      <td>...</td>\n",
       "      <td>651.987862</td>\n",
       "      <td>628.146804</td>\n",
       "      <td>592.476537</td>\n",
       "      <td>520.252064</td>\n",
       "      <td>530.149831</td>\n",
       "      <td>502.056771</td>\n",
       "      <td>500.522664</td>\n",
       "      <td>516.866552</td>\n",
       "      <td>368.754614</td>\n",
       "      <td>NaN</td>\n",
       "    </tr>\n",
       "    <tr>\n",
       "      <th>3</th>\n",
       "      <td>106.976475</td>\n",
       "      <td>112.047561</td>\n",
       "      <td>117.730633</td>\n",
       "      <td>122.278715</td>\n",
       "      <td>130.599963</td>\n",
       "      <td>137.186142</td>\n",
       "      <td>142.895375</td>\n",
       "      <td>127.303606</td>\n",
       "      <td>128.365494</td>\n",
       "      <td>142.325904</td>\n",
       "      <td>...</td>\n",
       "      <td>2149.295219</td>\n",
       "      <td>2243.271464</td>\n",
       "      <td>1876.623483</td>\n",
       "      <td>1645.023767</td>\n",
       "      <td>1585.911930</td>\n",
       "      <td>1731.311792</td>\n",
       "      <td>1749.303317</td>\n",
       "      <td>1683.436391</td>\n",
       "      <td>1757.030626</td>\n",
       "      <td>NaN</td>\n",
       "    </tr>\n",
       "    <tr>\n",
       "      <th>4</th>\n",
       "      <td>NaN</td>\n",
       "      <td>NaN</td>\n",
       "      <td>NaN</td>\n",
       "      <td>NaN</td>\n",
       "      <td>NaN</td>\n",
       "      <td>NaN</td>\n",
       "      <td>NaN</td>\n",
       "      <td>NaN</td>\n",
       "      <td>NaN</td>\n",
       "      <td>NaN</td>\n",
       "      <td>...</td>\n",
       "      <td>5101.983876</td>\n",
       "      <td>5059.080441</td>\n",
       "      <td>3100.830685</td>\n",
       "      <td>1709.515534</td>\n",
       "      <td>2283.214233</td>\n",
       "      <td>2487.500996</td>\n",
       "      <td>2142.238757</td>\n",
       "      <td>1603.993477</td>\n",
       "      <td>1953.533757</td>\n",
       "      <td>NaN</td>\n",
       "    </tr>\n",
       "  </tbody>\n",
       "</table>\n",
       "<p>5 rows × 63 columns</p>\n",
       "</div>"
      ],
      "text/plain": [
       "         1960        1961        1962        1963        1964        1965  \\\n",
       "0         NaN         NaN         NaN         NaN         NaN         NaN   \n",
       "1  162.913035  162.551683  172.002460  199.189238  179.387799  198.230368   \n",
       "2   62.369375   62.443703   60.950364   82.021738   85.511073  105.243196   \n",
       "3  106.976475  112.047561  117.730633  122.278715  130.599963  137.186142   \n",
       "4         NaN         NaN         NaN         NaN         NaN         NaN   \n",
       "\n",
       "         1966        1967        1968        1969  ...          2013  \\\n",
       "0         NaN         NaN         NaN         NaN  ...  26515.678080   \n",
       "1  209.414665  211.707060  224.239783  249.589133  ...   1730.394686   \n",
       "2  143.103233  167.165675  134.012768  134.250360  ...    651.987862   \n",
       "3  142.895375  127.303606  128.365494  142.325904  ...   2149.295219   \n",
       "4         NaN         NaN         NaN         NaN  ...   5101.983876   \n",
       "\n",
       "           2014          2015          2016          2017          2018  \\\n",
       "0  26942.307980  28421.386490  28451.273740  29326.708060  30220.594520   \n",
       "1   1719.183721   1538.552268   1443.692371   1628.586788   1564.734340   \n",
       "2    628.146804    592.476537    520.252064    530.149831    502.056771   \n",
       "3   2243.271464   1876.623483   1645.023767   1585.911930   1731.311792   \n",
       "4   5059.080441   3100.830685   1709.515534   2283.214233   2487.500996   \n",
       "\n",
       "           2019          2020          2021  2022  \n",
       "0  31650.760540  24487.863560  29342.100860   NaN  \n",
       "1   1512.270553   1363.540741   1549.772730   NaN  \n",
       "2    500.522664    516.866552    368.754614   NaN  \n",
       "3   1749.303317   1683.436391   1757.030626   NaN  \n",
       "4   2142.238757   1603.993477   1953.533757   NaN  \n",
       "\n",
       "[5 rows x 63 columns]"
      ]
     },
     "execution_count": 11,
     "metadata": {},
     "output_type": "execute_result"
    }
   ],
   "source": [
    "paises2=evolucao.drop(columns=['Country Code'])\n",
    "paises2.head()"
   ]
  },
  {
   "cell_type": "code",
   "execution_count": 9,
   "metadata": {},
   "outputs": [
    {
     "ename": "NameError",
     "evalue": "name 'paises2' is not defined",
     "output_type": "error",
     "traceback": [
      "\u001b[0;31m---------------------------------------------------------------------------\u001b[0m",
      "\u001b[0;31mNameError\u001b[0m                                 Traceback (most recent call last)",
      "\u001b[1;32m/Users/mac/Documents/GitHub/Analises-de-dados/pip_capta_analise.ipynb Célula 11\u001b[0m line \u001b[0;36m3\n\u001b[1;32m      <a href='vscode-notebook-cell:/Users/mac/Documents/GitHub/Analises-de-dados/pip_capta_analise.ipynb#X13sZmlsZQ%3D%3D?line=0'>1</a>\u001b[0m \u001b[39m#Agora vamos fazer um gráfico de linha para ver a evolução do pib per capita mundial de 1960 a 2018\u001b[39;00m\n\u001b[1;32m      <a href='vscode-notebook-cell:/Users/mac/Documents/GitHub/Analises-de-dados/pip_capta_analise.ipynb#X13sZmlsZQ%3D%3D?line=1'>2</a>\u001b[0m fig \u001b[39m=\u001b[39m go\u001b[39m.\u001b[39mFigure()\n\u001b[0;32m----> <a href='vscode-notebook-cell:/Users/mac/Documents/GitHub/Analises-de-dados/pip_capta_analise.ipynb#X13sZmlsZQ%3D%3D?line=2'>3</a>\u001b[0m fig\u001b[39m.\u001b[39madd_trace(go\u001b[39m.\u001b[39mScatter(x\u001b[39m=\u001b[39mpaises2\u001b[39m.\u001b[39mcolumns, y\u001b[39m=\u001b[39mpaises2\u001b[39m.\u001b[39mmean(), mode\u001b[39m=\u001b[39m\u001b[39m'\u001b[39m\u001b[39mlines+markers\u001b[39m\u001b[39m'\u001b[39m, name\u001b[39m=\u001b[39m\u001b[39m'\u001b[39m\u001b[39mlines+markers\u001b[39m\u001b[39m'\u001b[39m))\n\u001b[1;32m      <a href='vscode-notebook-cell:/Users/mac/Documents/GitHub/Analises-de-dados/pip_capta_analise.ipynb#X13sZmlsZQ%3D%3D?line=3'>4</a>\u001b[0m fig\u001b[39m.\u001b[39mupdate_layout(title\u001b[39m=\u001b[39m\u001b[39m'\u001b[39m\u001b[39mEvolução do PIB per capita mundial de 1960 a 2020\u001b[39m\u001b[39m'\u001b[39m)\n\u001b[1;32m      <a href='vscode-notebook-cell:/Users/mac/Documents/GitHub/Analises-de-dados/pip_capta_analise.ipynb#X13sZmlsZQ%3D%3D?line=4'>5</a>\u001b[0m fig\u001b[39m.\u001b[39mshow()\n",
      "\u001b[0;31mNameError\u001b[0m: name 'paises2' is not defined"
     ]
    }
   ],
   "source": [
    "#Agora vamos fazer um gráfico de linha para ver a evolução do pib per capita mundial de 1960 a 2018\n",
    "fig = go.Figure()\n",
    "fig.add_trace(go.Scatter(x=paises2.columns, y=paises2.mean(), mode='lines+markers', name='lines+markers'))\n",
    "fig.update_layout(title='Evolução do PIB per capita mundial de 1960 a 2020')\n",
    "fig.show()"
   ]
  },
  {
   "cell_type": "code",
   "execution_count": 10,
   "metadata": {},
   "outputs": [
    {
     "data": {
      "text/html": [
       "<div>\n",
       "<style scoped>\n",
       "    .dataframe tbody tr th:only-of-type {\n",
       "        vertical-align: middle;\n",
       "    }\n",
       "\n",
       "    .dataframe tbody tr th {\n",
       "        vertical-align: top;\n",
       "    }\n",
       "\n",
       "    .dataframe thead th {\n",
       "        text-align: right;\n",
       "    }\n",
       "</style>\n",
       "<table border=\"1\" class=\"dataframe\">\n",
       "  <thead>\n",
       "    <tr style=\"text-align: right;\">\n",
       "      <th></th>\n",
       "      <th>Country Name</th>\n",
       "      <th>Country Code</th>\n",
       "      <th>Indicator Code</th>\n",
       "      <th>1960</th>\n",
       "      <th>1961</th>\n",
       "      <th>1962</th>\n",
       "      <th>1963</th>\n",
       "      <th>1964</th>\n",
       "      <th>1965</th>\n",
       "      <th>1966</th>\n",
       "      <th>...</th>\n",
       "      <th>2013</th>\n",
       "      <th>2014</th>\n",
       "      <th>2015</th>\n",
       "      <th>2016</th>\n",
       "      <th>2017</th>\n",
       "      <th>2018</th>\n",
       "      <th>2019</th>\n",
       "      <th>2020</th>\n",
       "      <th>2021</th>\n",
       "      <th>2022</th>\n",
       "    </tr>\n",
       "  </thead>\n",
       "  <tbody>\n",
       "    <tr>\n",
       "      <th>29</th>\n",
       "      <td>Brazil</td>\n",
       "      <td>BRA</td>\n",
       "      <td>NY.GDP.PCAP.CD</td>\n",
       "      <td>232.998762</td>\n",
       "      <td>229.336766</td>\n",
       "      <td>247.8343</td>\n",
       "      <td>291.404006</td>\n",
       "      <td>254.838581</td>\n",
       "      <td>265.475398</td>\n",
       "      <td>325.173107</td>\n",
       "      <td>...</td>\n",
       "      <td>12258.50317</td>\n",
       "      <td>12071.15821</td>\n",
       "      <td>8783.225984</td>\n",
       "      <td>8680.768792</td>\n",
       "      <td>9896.684783</td>\n",
       "      <td>9121.083403</td>\n",
       "      <td>8845.259118</td>\n",
       "      <td>6794.489159</td>\n",
       "      <td>7507.160971</td>\n",
       "      <td>NaN</td>\n",
       "    </tr>\n",
       "  </tbody>\n",
       "</table>\n",
       "<p>1 rows × 66 columns</p>\n",
       "</div>"
      ],
      "text/plain": [
       "   Country Name Country Code  Indicator Code        1960        1961  \\\n",
       "29       Brazil          BRA  NY.GDP.PCAP.CD  232.998762  229.336766   \n",
       "\n",
       "        1962        1963        1964        1965        1966  ...  \\\n",
       "29  247.8343  291.404006  254.838581  265.475398  325.173107  ...   \n",
       "\n",
       "           2013         2014         2015         2016         2017  \\\n",
       "29  12258.50317  12071.15821  8783.225984  8680.768792  9896.684783   \n",
       "\n",
       "           2018         2019         2020         2021  2022  \n",
       "29  9121.083403  8845.259118  6794.489159  7507.160971   NaN  \n",
       "\n",
       "[1 rows x 66 columns]"
      ]
     },
     "execution_count": 10,
     "metadata": {},
     "output_type": "execute_result"
    }
   ],
   "source": [
    "#Agora vamos fazer analises a respeito do Brasil\n",
    "brasil=paises[paises['Country Name']=='Brazil']\n",
    "brasil.head()"
   ]
  },
  {
   "cell_type": "code",
   "execution_count": 11,
   "metadata": {},
   "outputs": [
    {
     "data": {
      "application/vnd.plotly.v1+json": {
       "config": {
        "plotlyServerURL": "https://plot.ly"
       },
       "data": [
        {
         "mode": "lines+markers",
         "name": "lines+markers",
         "type": "scatter",
         "x": [
          "Country Name",
          "Country Code",
          "Indicator Code",
          "1960",
          "1961",
          "1962",
          "1963",
          "1964",
          "1965",
          "1966",
          "1967",
          "1968",
          "1969",
          "1970",
          "1971",
          "1972",
          "1973",
          "1974",
          "1975",
          "1976",
          "1977",
          "1978",
          "1979",
          "1980",
          "1981",
          "1982",
          "1983",
          "1984",
          "1985",
          "1986",
          "1987",
          "1988",
          "1989",
          "1990",
          "1991",
          "1992",
          "1993",
          "1994",
          "1995",
          "1996",
          "1997",
          "1998",
          "1999",
          "2000",
          "2001",
          "2002",
          "2003",
          "2004",
          "2005",
          "2006",
          "2007",
          "2008",
          "2009",
          "2010",
          "2011",
          "2012",
          "2013",
          "2014",
          "2015",
          "2016",
          "2017",
          "2018",
          "2019",
          "2020",
          "2021",
          "2022"
         ],
         "y": [
          "Brazil",
          "BRA",
          "NY.GDP.PCAP.CD",
          232.9987625,
          229.3367664,
          247.8342997,
          291.4040061,
          254.838581,
          265.4753976,
          325.1731074,
          348.0211028,
          370.1804118,
          395.4413846,
          439.2209162,
          494.8027499,
          577.4515372,
          806.3545127,
          1034.16443,
          1188.619532,
          1376.347928,
          1547.694206,
          1716.707728,
          1853.019691,
          1941.259538,
          2061.349954,
          2118.564108,
          1448.009731,
          1406.6898,
          1287.612405,
          1545.928425,
          1667.18757,
          1781.817876,
          2344.730687,
          2592.627166,
          2234.362688,
          2105.107748,
          2324.499775,
          3263.562622,
          4704.961546,
          5121.905407,
          5240.128796,
          5049.766119,
          3456.423595,
          3726.81142,
          3142.277935,
          2824.679625,
          3056.624967,
          3623.247996,
          4773.248944,
          5866.096224,
          7323.033629,
          8801.599484,
          8570.022562,
          11249.46454,
          13200.78508,
          12327.31744,
          12258.50317,
          12071.15821,
          8783.225984,
          8680.768792,
          9896.684783,
          9121.083403,
          8845.259118,
          6794.489159,
          7507.160971,
          null
         ]
        }
       ],
       "layout": {
        "template": {
         "data": {
          "bar": [
           {
            "error_x": {
             "color": "#2a3f5f"
            },
            "error_y": {
             "color": "#2a3f5f"
            },
            "marker": {
             "line": {
              "color": "#E5ECF6",
              "width": 0.5
             },
             "pattern": {
              "fillmode": "overlay",
              "size": 10,
              "solidity": 0.2
             }
            },
            "type": "bar"
           }
          ],
          "barpolar": [
           {
            "marker": {
             "line": {
              "color": "#E5ECF6",
              "width": 0.5
             },
             "pattern": {
              "fillmode": "overlay",
              "size": 10,
              "solidity": 0.2
             }
            },
            "type": "barpolar"
           }
          ],
          "carpet": [
           {
            "aaxis": {
             "endlinecolor": "#2a3f5f",
             "gridcolor": "white",
             "linecolor": "white",
             "minorgridcolor": "white",
             "startlinecolor": "#2a3f5f"
            },
            "baxis": {
             "endlinecolor": "#2a3f5f",
             "gridcolor": "white",
             "linecolor": "white",
             "minorgridcolor": "white",
             "startlinecolor": "#2a3f5f"
            },
            "type": "carpet"
           }
          ],
          "choropleth": [
           {
            "colorbar": {
             "outlinewidth": 0,
             "ticks": ""
            },
            "type": "choropleth"
           }
          ],
          "contour": [
           {
            "colorbar": {
             "outlinewidth": 0,
             "ticks": ""
            },
            "colorscale": [
             [
              0,
              "#0d0887"
             ],
             [
              0.1111111111111111,
              "#46039f"
             ],
             [
              0.2222222222222222,
              "#7201a8"
             ],
             [
              0.3333333333333333,
              "#9c179e"
             ],
             [
              0.4444444444444444,
              "#bd3786"
             ],
             [
              0.5555555555555556,
              "#d8576b"
             ],
             [
              0.6666666666666666,
              "#ed7953"
             ],
             [
              0.7777777777777778,
              "#fb9f3a"
             ],
             [
              0.8888888888888888,
              "#fdca26"
             ],
             [
              1,
              "#f0f921"
             ]
            ],
            "type": "contour"
           }
          ],
          "contourcarpet": [
           {
            "colorbar": {
             "outlinewidth": 0,
             "ticks": ""
            },
            "type": "contourcarpet"
           }
          ],
          "heatmap": [
           {
            "colorbar": {
             "outlinewidth": 0,
             "ticks": ""
            },
            "colorscale": [
             [
              0,
              "#0d0887"
             ],
             [
              0.1111111111111111,
              "#46039f"
             ],
             [
              0.2222222222222222,
              "#7201a8"
             ],
             [
              0.3333333333333333,
              "#9c179e"
             ],
             [
              0.4444444444444444,
              "#bd3786"
             ],
             [
              0.5555555555555556,
              "#d8576b"
             ],
             [
              0.6666666666666666,
              "#ed7953"
             ],
             [
              0.7777777777777778,
              "#fb9f3a"
             ],
             [
              0.8888888888888888,
              "#fdca26"
             ],
             [
              1,
              "#f0f921"
             ]
            ],
            "type": "heatmap"
           }
          ],
          "heatmapgl": [
           {
            "colorbar": {
             "outlinewidth": 0,
             "ticks": ""
            },
            "colorscale": [
             [
              0,
              "#0d0887"
             ],
             [
              0.1111111111111111,
              "#46039f"
             ],
             [
              0.2222222222222222,
              "#7201a8"
             ],
             [
              0.3333333333333333,
              "#9c179e"
             ],
             [
              0.4444444444444444,
              "#bd3786"
             ],
             [
              0.5555555555555556,
              "#d8576b"
             ],
             [
              0.6666666666666666,
              "#ed7953"
             ],
             [
              0.7777777777777778,
              "#fb9f3a"
             ],
             [
              0.8888888888888888,
              "#fdca26"
             ],
             [
              1,
              "#f0f921"
             ]
            ],
            "type": "heatmapgl"
           }
          ],
          "histogram": [
           {
            "marker": {
             "pattern": {
              "fillmode": "overlay",
              "size": 10,
              "solidity": 0.2
             }
            },
            "type": "histogram"
           }
          ],
          "histogram2d": [
           {
            "colorbar": {
             "outlinewidth": 0,
             "ticks": ""
            },
            "colorscale": [
             [
              0,
              "#0d0887"
             ],
             [
              0.1111111111111111,
              "#46039f"
             ],
             [
              0.2222222222222222,
              "#7201a8"
             ],
             [
              0.3333333333333333,
              "#9c179e"
             ],
             [
              0.4444444444444444,
              "#bd3786"
             ],
             [
              0.5555555555555556,
              "#d8576b"
             ],
             [
              0.6666666666666666,
              "#ed7953"
             ],
             [
              0.7777777777777778,
              "#fb9f3a"
             ],
             [
              0.8888888888888888,
              "#fdca26"
             ],
             [
              1,
              "#f0f921"
             ]
            ],
            "type": "histogram2d"
           }
          ],
          "histogram2dcontour": [
           {
            "colorbar": {
             "outlinewidth": 0,
             "ticks": ""
            },
            "colorscale": [
             [
              0,
              "#0d0887"
             ],
             [
              0.1111111111111111,
              "#46039f"
             ],
             [
              0.2222222222222222,
              "#7201a8"
             ],
             [
              0.3333333333333333,
              "#9c179e"
             ],
             [
              0.4444444444444444,
              "#bd3786"
             ],
             [
              0.5555555555555556,
              "#d8576b"
             ],
             [
              0.6666666666666666,
              "#ed7953"
             ],
             [
              0.7777777777777778,
              "#fb9f3a"
             ],
             [
              0.8888888888888888,
              "#fdca26"
             ],
             [
              1,
              "#f0f921"
             ]
            ],
            "type": "histogram2dcontour"
           }
          ],
          "mesh3d": [
           {
            "colorbar": {
             "outlinewidth": 0,
             "ticks": ""
            },
            "type": "mesh3d"
           }
          ],
          "parcoords": [
           {
            "line": {
             "colorbar": {
              "outlinewidth": 0,
              "ticks": ""
             }
            },
            "type": "parcoords"
           }
          ],
          "pie": [
           {
            "automargin": true,
            "type": "pie"
           }
          ],
          "scatter": [
           {
            "fillpattern": {
             "fillmode": "overlay",
             "size": 10,
             "solidity": 0.2
            },
            "type": "scatter"
           }
          ],
          "scatter3d": [
           {
            "line": {
             "colorbar": {
              "outlinewidth": 0,
              "ticks": ""
             }
            },
            "marker": {
             "colorbar": {
              "outlinewidth": 0,
              "ticks": ""
             }
            },
            "type": "scatter3d"
           }
          ],
          "scattercarpet": [
           {
            "marker": {
             "colorbar": {
              "outlinewidth": 0,
              "ticks": ""
             }
            },
            "type": "scattercarpet"
           }
          ],
          "scattergeo": [
           {
            "marker": {
             "colorbar": {
              "outlinewidth": 0,
              "ticks": ""
             }
            },
            "type": "scattergeo"
           }
          ],
          "scattergl": [
           {
            "marker": {
             "colorbar": {
              "outlinewidth": 0,
              "ticks": ""
             }
            },
            "type": "scattergl"
           }
          ],
          "scattermapbox": [
           {
            "marker": {
             "colorbar": {
              "outlinewidth": 0,
              "ticks": ""
             }
            },
            "type": "scattermapbox"
           }
          ],
          "scatterpolar": [
           {
            "marker": {
             "colorbar": {
              "outlinewidth": 0,
              "ticks": ""
             }
            },
            "type": "scatterpolar"
           }
          ],
          "scatterpolargl": [
           {
            "marker": {
             "colorbar": {
              "outlinewidth": 0,
              "ticks": ""
             }
            },
            "type": "scatterpolargl"
           }
          ],
          "scatterternary": [
           {
            "marker": {
             "colorbar": {
              "outlinewidth": 0,
              "ticks": ""
             }
            },
            "type": "scatterternary"
           }
          ],
          "surface": [
           {
            "colorbar": {
             "outlinewidth": 0,
             "ticks": ""
            },
            "colorscale": [
             [
              0,
              "#0d0887"
             ],
             [
              0.1111111111111111,
              "#46039f"
             ],
             [
              0.2222222222222222,
              "#7201a8"
             ],
             [
              0.3333333333333333,
              "#9c179e"
             ],
             [
              0.4444444444444444,
              "#bd3786"
             ],
             [
              0.5555555555555556,
              "#d8576b"
             ],
             [
              0.6666666666666666,
              "#ed7953"
             ],
             [
              0.7777777777777778,
              "#fb9f3a"
             ],
             [
              0.8888888888888888,
              "#fdca26"
             ],
             [
              1,
              "#f0f921"
             ]
            ],
            "type": "surface"
           }
          ],
          "table": [
           {
            "cells": {
             "fill": {
              "color": "#EBF0F8"
             },
             "line": {
              "color": "white"
             }
            },
            "header": {
             "fill": {
              "color": "#C8D4E3"
             },
             "line": {
              "color": "white"
             }
            },
            "type": "table"
           }
          ]
         },
         "layout": {
          "annotationdefaults": {
           "arrowcolor": "#2a3f5f",
           "arrowhead": 0,
           "arrowwidth": 1
          },
          "autotypenumbers": "strict",
          "coloraxis": {
           "colorbar": {
            "outlinewidth": 0,
            "ticks": ""
           }
          },
          "colorscale": {
           "diverging": [
            [
             0,
             "#8e0152"
            ],
            [
             0.1,
             "#c51b7d"
            ],
            [
             0.2,
             "#de77ae"
            ],
            [
             0.3,
             "#f1b6da"
            ],
            [
             0.4,
             "#fde0ef"
            ],
            [
             0.5,
             "#f7f7f7"
            ],
            [
             0.6,
             "#e6f5d0"
            ],
            [
             0.7,
             "#b8e186"
            ],
            [
             0.8,
             "#7fbc41"
            ],
            [
             0.9,
             "#4d9221"
            ],
            [
             1,
             "#276419"
            ]
           ],
           "sequential": [
            [
             0,
             "#0d0887"
            ],
            [
             0.1111111111111111,
             "#46039f"
            ],
            [
             0.2222222222222222,
             "#7201a8"
            ],
            [
             0.3333333333333333,
             "#9c179e"
            ],
            [
             0.4444444444444444,
             "#bd3786"
            ],
            [
             0.5555555555555556,
             "#d8576b"
            ],
            [
             0.6666666666666666,
             "#ed7953"
            ],
            [
             0.7777777777777778,
             "#fb9f3a"
            ],
            [
             0.8888888888888888,
             "#fdca26"
            ],
            [
             1,
             "#f0f921"
            ]
           ],
           "sequentialminus": [
            [
             0,
             "#0d0887"
            ],
            [
             0.1111111111111111,
             "#46039f"
            ],
            [
             0.2222222222222222,
             "#7201a8"
            ],
            [
             0.3333333333333333,
             "#9c179e"
            ],
            [
             0.4444444444444444,
             "#bd3786"
            ],
            [
             0.5555555555555556,
             "#d8576b"
            ],
            [
             0.6666666666666666,
             "#ed7953"
            ],
            [
             0.7777777777777778,
             "#fb9f3a"
            ],
            [
             0.8888888888888888,
             "#fdca26"
            ],
            [
             1,
             "#f0f921"
            ]
           ]
          },
          "colorway": [
           "#636efa",
           "#EF553B",
           "#00cc96",
           "#ab63fa",
           "#FFA15A",
           "#19d3f3",
           "#FF6692",
           "#B6E880",
           "#FF97FF",
           "#FECB52"
          ],
          "font": {
           "color": "#2a3f5f"
          },
          "geo": {
           "bgcolor": "white",
           "lakecolor": "white",
           "landcolor": "#E5ECF6",
           "showlakes": true,
           "showland": true,
           "subunitcolor": "white"
          },
          "hoverlabel": {
           "align": "left"
          },
          "hovermode": "closest",
          "mapbox": {
           "style": "light"
          },
          "paper_bgcolor": "white",
          "plot_bgcolor": "#E5ECF6",
          "polar": {
           "angularaxis": {
            "gridcolor": "white",
            "linecolor": "white",
            "ticks": ""
           },
           "bgcolor": "#E5ECF6",
           "radialaxis": {
            "gridcolor": "white",
            "linecolor": "white",
            "ticks": ""
           }
          },
          "scene": {
           "xaxis": {
            "backgroundcolor": "#E5ECF6",
            "gridcolor": "white",
            "gridwidth": 2,
            "linecolor": "white",
            "showbackground": true,
            "ticks": "",
            "zerolinecolor": "white"
           },
           "yaxis": {
            "backgroundcolor": "#E5ECF6",
            "gridcolor": "white",
            "gridwidth": 2,
            "linecolor": "white",
            "showbackground": true,
            "ticks": "",
            "zerolinecolor": "white"
           },
           "zaxis": {
            "backgroundcolor": "#E5ECF6",
            "gridcolor": "white",
            "gridwidth": 2,
            "linecolor": "white",
            "showbackground": true,
            "ticks": "",
            "zerolinecolor": "white"
           }
          },
          "shapedefaults": {
           "line": {
            "color": "#2a3f5f"
           }
          },
          "ternary": {
           "aaxis": {
            "gridcolor": "white",
            "linecolor": "white",
            "ticks": ""
           },
           "baxis": {
            "gridcolor": "white",
            "linecolor": "white",
            "ticks": ""
           },
           "bgcolor": "#E5ECF6",
           "caxis": {
            "gridcolor": "white",
            "linecolor": "white",
            "ticks": ""
           }
          },
          "title": {
           "x": 0.05
          },
          "xaxis": {
           "automargin": true,
           "gridcolor": "white",
           "linecolor": "white",
           "ticks": "",
           "title": {
            "standoff": 15
           },
           "zerolinecolor": "white",
           "zerolinewidth": 2
          },
          "yaxis": {
           "automargin": true,
           "gridcolor": "white",
           "linecolor": "white",
           "ticks": "",
           "title": {
            "standoff": 15
           },
           "zerolinecolor": "white",
           "zerolinewidth": 2
          }
         }
        },
        "title": {
         "text": "Evolução do PIB per capita do Brasil de 1960 a 2021"
        }
       }
      }
     },
     "metadata": {},
     "output_type": "display_data"
    }
   ],
   "source": [
    "ev_brasil= go.Figure(\n",
    "    data=[go.Scatter(x=brasil.columns, y=brasil.iloc[0], mode='lines+markers', name='lines+markers')],\n",
    "    layout=go.Layout(title='Evolução do PIB per capita do Brasil de 1960 a 2021')\n",
    ")\n",
    "ev_brasil.show()"
   ]
  },
  {
   "cell_type": "code",
   "execution_count": null,
   "metadata": {},
   "outputs": [],
   "source": []
  }
 ],
 "metadata": {
  "kernelspec": {
   "display_name": "Python 3",
   "language": "python",
   "name": "python3"
  },
  "language_info": {
   "codemirror_mode": {
    "name": "ipython",
    "version": 3
   },
   "file_extension": ".py",
   "mimetype": "text/x-python",
   "name": "python",
   "nbconvert_exporter": "python",
   "pygments_lexer": "ipython3",
   "version": "3.12.0"
  }
 },
 "nbformat": 4,
 "nbformat_minor": 2
}
