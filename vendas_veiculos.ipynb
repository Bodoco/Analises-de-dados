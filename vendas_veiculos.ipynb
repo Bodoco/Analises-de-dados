{
 "cells": [
  {
   "cell_type": "code",
   "execution_count": 1,
   "metadata": {},
   "outputs": [],
   "source": [
    "'''Aqui faremos a analise do dataset de vendas de veiculos\n",
    "O dataset foi retirado do site kaggle.com em https://www.kaggle.com/datasets/iamsouravbanerjee/cars-dataset'''\n",
    "\n",
    "import pandas as pd\n",
    "import numpy as np\n",
    "import matplotlib.pyplot as plt\n",
    "import seaborn as sns\n",
    "\n"
   ]
  },
  {
   "cell_type": "code",
   "execution_count": 2,
   "metadata": {},
   "outputs": [
    {
     "data": {
      "text/html": [
       "<div>\n",
       "<style scoped>\n",
       "    .dataframe tbody tr th:only-of-type {\n",
       "        vertical-align: middle;\n",
       "    }\n",
       "\n",
       "    .dataframe tbody tr th {\n",
       "        vertical-align: top;\n",
       "    }\n",
       "\n",
       "    .dataframe thead th {\n",
       "        text-align: right;\n",
       "    }\n",
       "</style>\n",
       "<table border=\"1\" class=\"dataframe\">\n",
       "  <thead>\n",
       "    <tr style=\"text-align: right;\">\n",
       "      <th></th>\n",
       "      <th>First Name</th>\n",
       "      <th>Last Name</th>\n",
       "      <th>Country</th>\n",
       "      <th>Car Brand</th>\n",
       "      <th>Car Model</th>\n",
       "      <th>Car Color</th>\n",
       "      <th>Year of Manufacture</th>\n",
       "      <th>Credit Card Type</th>\n",
       "    </tr>\n",
       "  </thead>\n",
       "  <tbody>\n",
       "    <tr>\n",
       "      <th>0</th>\n",
       "      <td>Yetty</td>\n",
       "      <td>Arghent</td>\n",
       "      <td>Indonesia</td>\n",
       "      <td>Ford</td>\n",
       "      <td>Club Wagon</td>\n",
       "      <td>Teal</td>\n",
       "      <td>1993</td>\n",
       "      <td>mastercard</td>\n",
       "    </tr>\n",
       "    <tr>\n",
       "      <th>1</th>\n",
       "      <td>Crystal</td>\n",
       "      <td>Bosworth</td>\n",
       "      <td>China</td>\n",
       "      <td>Cadillac</td>\n",
       "      <td>Escalade ESV</td>\n",
       "      <td>Fuscia</td>\n",
       "      <td>2007</td>\n",
       "      <td>mastercard</td>\n",
       "    </tr>\n",
       "    <tr>\n",
       "      <th>2</th>\n",
       "      <td>Monro</td>\n",
       "      <td>Houdhury</td>\n",
       "      <td>Indonesia</td>\n",
       "      <td>Mazda</td>\n",
       "      <td>Miata MX-5</td>\n",
       "      <td>Orange</td>\n",
       "      <td>2009</td>\n",
       "      <td>maestro</td>\n",
       "    </tr>\n",
       "    <tr>\n",
       "      <th>3</th>\n",
       "      <td>Bowie</td>\n",
       "      <td>Clair</td>\n",
       "      <td>China</td>\n",
       "      <td>Audi</td>\n",
       "      <td>A4</td>\n",
       "      <td>Orange</td>\n",
       "      <td>2005</td>\n",
       "      <td>instapayment</td>\n",
       "    </tr>\n",
       "    <tr>\n",
       "      <th>4</th>\n",
       "      <td>Myrvyn</td>\n",
       "      <td>McAllister</td>\n",
       "      <td>Czech Republic</td>\n",
       "      <td>Nissan</td>\n",
       "      <td>Maxima</td>\n",
       "      <td>Pink</td>\n",
       "      <td>1994</td>\n",
       "      <td>maestro</td>\n",
       "    </tr>\n",
       "  </tbody>\n",
       "</table>\n",
       "</div>"
      ],
      "text/plain": [
       "  First Name   Last Name         Country Car Brand     Car Model Car Color  \\\n",
       "0      Yetty     Arghent       Indonesia      Ford    Club Wagon      Teal   \n",
       "1    Crystal    Bosworth           China  Cadillac  Escalade ESV    Fuscia   \n",
       "2      Monro    Houdhury       Indonesia     Mazda    Miata MX-5    Orange   \n",
       "3      Bowie       Clair           China      Audi            A4    Orange   \n",
       "4     Myrvyn  McAllister  Czech Republic    Nissan        Maxima      Pink   \n",
       "\n",
       "   Year of Manufacture Credit Card Type  \n",
       "0                 1993       mastercard  \n",
       "1                 2007       mastercard  \n",
       "2                 2009          maestro  \n",
       "3                 2005     instapayment  \n",
       "4                 1994          maestro  "
      ]
     },
     "execution_count": 2,
     "metadata": {},
     "output_type": "execute_result"
    }
   ],
   "source": [
    "#importando o dataset\n",
    "df=pd.read_csv('cars.csv')\n",
    "df.head()"
   ]
  },
  {
   "cell_type": "code",
   "execution_count": 3,
   "metadata": {},
   "outputs": [
    {
     "data": {
      "text/plain": [
       "Country\n",
       "China            5465\n",
       "Indonesia        3163\n",
       "Russia           1671\n",
       "Philippines      1636\n",
       "Brazil           1196\n",
       "Poland           1039\n",
       "Portugal          987\n",
       "France            854\n",
       "Sweden            778\n",
       "United States     633\n",
       "Name: count, dtype: int64"
      ]
     },
     "execution_count": 3,
     "metadata": {},
     "output_type": "execute_result"
    }
   ],
   "source": [
    "#Agora vamos descobrir qual o pais que mais comprrou carros\n",
    "df['Country'].value_counts().head(10)"
   ]
  },
  {
   "cell_type": "code",
   "execution_count": 4,
   "metadata": {},
   "outputs": [
    {
     "data": {
      "text/plain": [
       "<Axes: xlabel='Country'>"
      ]
     },
     "execution_count": 4,
     "metadata": {},
     "output_type": "execute_result"
    },
    {
     "data": {
      "image/png": "[encoded data removed]",
      "text/plain": [
       "<Figure size 1500x1000 with 1 Axes>"
      ]
     },
     "metadata": {},
     "output_type": "display_data"
    }
   ],
   "source": [
    "#Usando a biblioteca seaborn para plotar um grafico de barras usando a informação acima\n",
    "sns.set_style('darkgrid')\n",
    "plt.figure(figsize=(15,10))\n",
    "sns.barplot(x=df['Country'].value_counts().head(10).index,y=df['Country'].value_counts().head(10).values)"
   ]
  },
  {
   "cell_type": "code",
   "execution_count": 9,
   "metadata": {},
   "outputs": [
    {
     "data": {
      "text/plain": [
       "Car Model      Car Brand    \n",
       "Corvette       Chevrolet        209\n",
       "Grand Prix     Pontiac          195\n",
       "Mustang        Ford             164\n",
       "Galant         Mitsubishi       159\n",
       "S-Class        Mercedes-Benz    149\n",
       "Range Rover    Land Rover       145\n",
       "Camaro         Chevrolet        133\n",
       "E-Class        Mercedes-Benz    129\n",
       "Grand Marquis  Mercury          129\n",
       "MX-5           Mazda            127\n",
       "Name: count, dtype: int64"
      ]
     },
     "execution_count": 9,
     "metadata": {},
     "output_type": "execute_result"
    }
   ],
   "source": [
    "#Agora vamos descobrir qual a marca e modelo de carro mais vendido\n",
    "df[['Car Model','Car Brand']].value_counts().head(10)\n"
   ]
  },
  {
   "cell_type": "code",
   "execution_count": 11,
   "metadata": {},
   "outputs": [
    {
     "data": {
      "text/plain": [
       "<Axes: xlabel='Car Model'>"
      ]
     },
     "execution_count": 11,
     "metadata": {},
     "output_type": "execute_result"
    },
    {
     "data": {
      "image/png": "[encoded data removed]",
      "text/plain": [
       "<Figure size 1500x1000 with 1 Axes>"
      ]
     },
     "metadata": {},
     "output_type": "display_data"
    }
   ],
   "source": [
    "#Vamos plotar um grafico de barras para visualizar melhor\n",
    "plt.figure(figsize=(15,10))\n",
    "sns.barplot(x=df['Car Model'].value_counts().head(10).index,y=df[['Car Model','Car Brand']].value_counts().head(10).values)\n"
   ]
  },
  {
   "cell_type": "code",
   "execution_count": 15,
   "metadata": {},
   "outputs": [
    {
     "data": {
      "text/plain": [
       "Car Color\n",
       "Indigo    1627\n",
       "Name: count, dtype: int64"
      ]
     },
     "execution_count": 15,
     "metadata": {},
     "output_type": "execute_result"
    }
   ],
   "source": [
    "#Agora vamos ver qual a cor de carro mais vendida\n",
    "df['Car Color'].value_counts().head(1)"
   ]
  },
  {
   "cell_type": "code",
   "execution_count": 16,
   "metadata": {},
   "outputs": [
    {
     "data": {
      "text/plain": [
       "Year of Manufacture\n",
       "2009    1572\n",
       "2006    1559\n",
       "2008    1490\n",
       "2012    1405\n",
       "2010    1382\n",
       "2007    1372\n",
       "2011    1341\n",
       "2005    1273\n",
       "1992    1256\n",
       "2004    1250\n",
       "Name: count, dtype: int64"
      ]
     },
     "execution_count": 16,
     "metadata": {},
     "output_type": "execute_result"
    }
   ],
   "source": [
    "#Agora vem uma lista com os 10 anos de carro mais vendidos\n",
    "df['Year of Manufacture'].value_counts().head(10)"
   ]
  },
  {
   "cell_type": "code",
   "execution_count": 17,
   "metadata": {},
   "outputs": [
    {
     "data": {
      "text/plain": [
       "Credit Card Type\n",
       "jcb    12718\n",
       "Name: count, dtype: int64"
      ]
     },
     "execution_count": 17,
     "metadata": {},
     "output_type": "execute_result"
    }
   ],
   "source": [
    "#Qual o cartão de credito mais usado para comprar carros?\n",
    "df['Credit Card Type'].value_counts().head(1)"
   ]
  },
  {
   "cell_type": "code",
   "execution_count": 24,
   "metadata": {},
   "outputs": [
    {
     "data": {
      "text/plain": [
       "Car Model\n",
       "S-Class    149\n",
       "Name: count, dtype: int64"
      ]
     },
     "execution_count": 24,
     "metadata": {},
     "output_type": "execute_result"
    }
   ],
   "source": [
    "#Quantos carros a Mercedes-benz vendeu, e qual o seu modelo mais vendido?\n",
    "df[df['Car Brand']=='Mercedes-Benz']['Car Model'].value_counts().head(1)"
   ]
  },
  {
   "cell_type": "code",
   "execution_count": 22,
   "metadata": {},
   "outputs": [
    {
     "data": {
      "text/plain": [
       "Country\n",
       "China            204\n",
       "Indonesia        117\n",
       "Philippines       67\n",
       "Russia            67\n",
       "Poland            48\n",
       "Brazil            41\n",
       "France            36\n",
       "Portugal          35\n",
       "Sweden            27\n",
       "United States     25\n",
       "Name: count, dtype: int64"
      ]
     },
     "execution_count": 22,
     "metadata": {},
     "output_type": "execute_result"
    }
   ],
   "source": [
    "#Onde a Mercedes-benz vendeu mais carros?\n",
    "df[df['Car Brand']=='Mercedes-Benz']['Country'].value_counts().head(10)"
   ]
  }
 ],
 "metadata": {
  "kernelspec": {
   "display_name": "Python 3",
   "language": "python",
   "name": "python3"
  },
  "language_info": {
   "codemirror_mode": {
    "name": "ipython",
    "version": 3
   },
   "file_extension": ".py",
   "mimetype": "text/x-python",
   "name": "python",
   "nbconvert_exporter": "python",
   "pygments_lexer": "ipython3",
   "version": "3.12.0"
  }
 },
 "nbformat": 4,
 "nbformat_minor": 2
}
